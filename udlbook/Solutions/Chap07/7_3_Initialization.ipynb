{
  "cells": [
    {
      "cell_type": "markdown",
      "metadata": {
        "colab_type": "text",
        "id": "view-in-github"
      },
      "source": [
        "<a href=\"https://colab.research.google.com/github/udlbook/udlbook/blob/main/Notebooks/Chap07/7_3_Initialization.ipynb\" target=\"_parent\"><img src=\"https://colab.research.google.com/assets/colab-badge.svg\" alt=\"Open In Colab\"/></a>"
      ]
    },
    {
      "cell_type": "markdown",
      "metadata": {
        "id": "L6chybAVFJW2"
      },
      "source": [
        "# **Notebook 7.3: Initialization**\n",
        "\n",
        "This notebook explores weight initialization in deep neural networks as described in section 7.5 of the book.\n",
        "\n",
        "Work through the cells below, running each cell in turn. In various places you will see the words \"TO DO\". Follow the instructions at these places and make predictions about what is going to happen or write code to complete the functions.\n",
        "\n",
        "Contact me at udlbookmail@gmail.com if you find any mistakes or have any suggestions."
      ]
    },
    {
      "cell_type": "code",
      "execution_count": 1,
      "metadata": {
        "id": "LdIDglk1FFcG"
      },
      "outputs": [],
      "source": [
        "import numpy as np\n",
        "import matplotlib.pyplot as plt"
      ]
    },
    {
      "cell_type": "markdown",
      "metadata": {
        "id": "nnUoI0m6GyjC"
      },
      "source": [
        "First let's define a neural network.  We'll just choose the weights and biases randomly for now"
      ]
    },
    {
      "cell_type": "code",
      "execution_count": 2,
      "metadata": {
        "id": "WVM4Tc_jGI0Q"
      },
      "outputs": [],
      "source": [
        "def init_params(K, D, sigma_sq_omega):\n",
        "    # Set seed so we always get the same random numbers\n",
        "    np.random.seed(0)\n",
        "\n",
        "    # Input layer\n",
        "    D_i = 1\n",
        "    # Output layer\n",
        "    D_o = 1\n",
        "\n",
        "    # Make empty lists\n",
        "    all_weights = [None] * (K + 1)\n",
        "    all_biases = [None] * (K + 1)\n",
        "\n",
        "    # Create input and output layers\n",
        "    all_weights[0] = np.random.normal(size=(D, D_i)) * np.sqrt(sigma_sq_omega)\n",
        "    all_weights[-1] = np.random.normal(size=(D_o, D)) * np.sqrt(sigma_sq_omega)\n",
        "    all_biases[0] = np.zeros((D, 1))\n",
        "    all_biases[-1] = np.zeros((D_o, 1))\n",
        "\n",
        "    # Create intermediate layers\n",
        "    for layer in range(1, K):\n",
        "        all_weights[layer] = np.random.normal(size=(D, D)) * np.sqrt(sigma_sq_omega)\n",
        "        all_biases[layer] = np.zeros((D, 1))\n",
        "\n",
        "    return all_weights, all_biases"
      ]
    },
    {
      "cell_type": "code",
      "execution_count": 3,
      "metadata": {
        "id": "jZh-7bPXIDq4"
      },
      "outputs": [],
      "source": [
        "# Define the Rectified Linear Unit (ReLU) function\n",
        "def ReLU(preactivation):\n",
        "    activation = preactivation.clip(0.0)\n",
        "    return activation"
      ]
    },
    {
      "cell_type": "code",
      "execution_count": 4,
      "metadata": {
        "id": "LgquJUJvJPaN"
      },
      "outputs": [],
      "source": [
        "def compute_network_output(net_input, all_weights, all_biases):\n",
        "    # Retrieve number of layers\n",
        "    K = len(all_weights) - 1\n",
        "\n",
        "    # We'll store the pre-activations at each layer in a list \"all_f\"\n",
        "    # and the activations in a second list \"all_h\".\n",
        "    all_f = [None] * (K + 1)\n",
        "    all_h = [None] * (K + 1)\n",
        "\n",
        "    # For convenience, we'll set\n",
        "    # all_h[0] to be the input, and all_f[K] will be the output\n",
        "    all_h[0] = net_input\n",
        "\n",
        "    # Run through the layers, calculating all_f[0...K-1] and all_h[1...K]\n",
        "    for layer in range(K):\n",
        "        # Update preactivations and activations at this layer according to eqn 7.5\n",
        "        all_f[layer] = all_biases[layer] + np.matmul(all_weights[layer], all_h[layer])\n",
        "        all_h[layer + 1] = ReLU(all_f[layer])\n",
        "\n",
        "    # Compute the output from the last hidden layer\n",
        "    all_f[K] = all_biases[K] + np.matmul(all_weights[K], all_h[K])\n",
        "\n",
        "    # Retrieve the output\n",
        "    net_output = all_f[K]\n",
        "\n",
        "    return net_output, all_f, all_h"
      ]
    },
    {
      "cell_type": "markdown",
      "metadata": {
        "id": "bIUrcXnOqChl"
      },
      "source": [
        "Now let's investigate how the size of the outputs vary as we change the initialization variance:\n"
      ]
    },
    {
      "cell_type": "code",
      "execution_count": 5,
      "metadata": {
        "id": "A55z3rKBqO7M"
      },
      "outputs": [
        {
          "name": "stdout",
          "output_type": "stream",
          "text": [
            "Layer 1, std of hidden units = 0.811\n",
            "Layer 2, std of hidden units = 1.472\n",
            "Layer 3, std of hidden units = 4.547\n",
            "Layer 4, std of hidden units = 8.896\n",
            "Layer 5, std of hidden units = 10.106\n"
          ]
        }
      ],
      "source": [
        "# Number of layers\n",
        "K = 5\n",
        "# Number of neurons per layer\n",
        "D = 8\n",
        "# Input layer\n",
        "D_i = 1\n",
        "# Output layer\n",
        "D_o = 1\n",
        "# Set variance of initial weights to 1\n",
        "sigma_sq_omega = 1.0\n",
        "# Initialize parameters\n",
        "all_weights, all_biases = init_params(K, D, sigma_sq_omega)\n",
        "\n",
        "n_data = 1000\n",
        "data_in = np.random.normal(size=(1, n_data))\n",
        "net_output, all_f, all_h = compute_network_output(data_in, all_weights, all_biases)\n",
        "\n",
        "for layer in range(1, K + 1):\n",
        "    print(\"Layer %d, std of hidden units = %3.3f\" % (layer, np.std(all_h[layer])))"
      ]
    },
    {
      "cell_type": "code",
      "execution_count": 12,
      "metadata": {
        "id": "VL_SO4tar3DC"
      },
      "outputs": [
        {
          "name": "stdout",
          "output_type": "stream",
          "text": [
            "Layer 1, std of hidden units = 0.865\n",
            "Layer 2, std of hidden units = 0.898\n",
            "Layer 3, std of hidden units = 0.873\n",
            "Layer 4, std of hidden units = 0.862\n",
            "Layer 5, std of hidden units = 0.748\n",
            "Layer 6, std of hidden units = 0.623\n",
            "Layer 7, std of hidden units = 0.607\n",
            "Layer 8, std of hidden units = 0.680\n",
            "Layer 9, std of hidden units = 0.772\n",
            "Layer 10, std of hidden units = 0.775\n",
            "Layer 11, std of hidden units = 0.868\n",
            "Layer 12, std of hidden units = 0.913\n",
            "Layer 13, std of hidden units = 0.885\n",
            "Layer 14, std of hidden units = 0.910\n",
            "Layer 15, std of hidden units = 1.078\n",
            "Layer 16, std of hidden units = 0.990\n",
            "Layer 17, std of hidden units = 0.998\n",
            "Layer 18, std of hidden units = 1.138\n",
            "Layer 19, std of hidden units = 1.122\n",
            "Layer 20, std of hidden units = 1.040\n",
            "Layer 21, std of hidden units = 1.197\n",
            "Layer 22, std of hidden units = 1.481\n",
            "Layer 23, std of hidden units = 1.814\n",
            "Layer 24, std of hidden units = 2.059\n",
            "Layer 25, std of hidden units = 2.117\n",
            "Layer 26, std of hidden units = 2.271\n",
            "Layer 27, std of hidden units = 1.818\n",
            "Layer 28, std of hidden units = 1.901\n",
            "Layer 29, std of hidden units = 1.763\n",
            "Layer 30, std of hidden units = 1.522\n",
            "Layer 31, std of hidden units = 1.463\n",
            "Layer 32, std of hidden units = 1.382\n",
            "Layer 33, std of hidden units = 1.074\n",
            "Layer 34, std of hidden units = 1.371\n",
            "Layer 35, std of hidden units = 1.359\n",
            "Layer 36, std of hidden units = 1.541\n",
            "Layer 37, std of hidden units = 1.557\n",
            "Layer 38, std of hidden units = 1.411\n",
            "Layer 39, std of hidden units = 1.612\n",
            "Layer 40, std of hidden units = 1.990\n",
            "Layer 41, std of hidden units = 2.519\n",
            "Layer 42, std of hidden units = 2.360\n",
            "Layer 43, std of hidden units = 2.049\n",
            "Layer 44, std of hidden units = 2.393\n",
            "Layer 45, std of hidden units = 1.853\n",
            "Layer 46, std of hidden units = 2.019\n",
            "Layer 47, std of hidden units = 2.088\n",
            "Layer 48, std of hidden units = 2.052\n",
            "Layer 49, std of hidden units = 1.976\n",
            "Layer 50, std of hidden units = 2.130\n"
          ]
        }
      ],
      "source": [
        "# You can see that the values of the hidden units are increasing on average (the variance is across all hidden units at the layer\n",
        "# and the 1000 training examples\n",
        "\n",
        "# TO DO\n",
        "# Change this to 50 layers with 80 hidden units per layer\n",
        "# Number of layers\n",
        "K = 50\n",
        "# Number of neurons per layer\n",
        "D = 80\n",
        "# Input layer\n",
        "D_i = 1\n",
        "# Output layer\n",
        "D_o = 1\n",
        "# Set variance of initial weights to 1\n",
        "sigma_sq_omega = 1.0\n",
        "# Initialize parameters\n",
        "all_weights, all_biases = init_params(K, D, sigma_sq_omega)\n",
        "\n",
        "n_data = 1000\n",
        "data_in = np.random.normal(size=(1, n_data))\n",
        "net_output, all_f, all_h = compute_network_output(data_in, all_weights, all_biases)\n",
        "\n",
        "for layer in range(1, K + 1):\n",
        "    print(\"Layer %d, std of hidden units = %3.3f\" % (layer, np.std(all_h[layer])))\n",
        "# TO DO\n",
        "# Now experiment with sigma_sq_omega to try to stop the variance of the forward computation exploding\n",
        "def init_params_he(K, D, D_i, D_o):\n",
        "    all_weights = []\n",
        "    all_biases = []\n",
        "    for k in range(K + 1):\n",
        "        if k == 0:\n",
        "            # Input layer weights\n",
        "            weight = np.random.normal(0, np.sqrt(2 / D_i), size=(D, D_i))\n",
        "        elif k == K:\n",
        "            # Output layer weights\n",
        "            weight = np.random.normal(0, np.sqrt(2 / D), size=(D_o, D))\n",
        "        else:\n",
        "            # Hidden layer weights\n",
        "            weight = np.random.normal(0, np.sqrt(2 / D), size=(D, D))\n",
        "        \n",
        "        bias = np.zeros((weight.shape[0], 1))  # Initialize biases as 0\n",
        "        all_weights.append(weight)\n",
        "        all_biases.append(bias)\n",
        "    \n",
        "    return all_weights, all_biases\n"
      ]
    },
    {
      "cell_type": "markdown",
      "metadata": {
        "id": "SxVTKp3IcoBF"
      },
      "source": [
        "Now let's define a loss function.  We'll just use the least squares loss function. We'll also write a function to compute dloss_doutput\n"
      ]
    },
    {
      "cell_type": "code",
      "execution_count": 7,
      "metadata": {
        "id": "6XqWSYWJdhQR"
      },
      "outputs": [],
      "source": [
        "def least_squares_loss(net_output, y):\n",
        "    return np.sum((net_output - y) * (net_output - y))\n",
        "\n",
        "\n",
        "def d_loss_d_output(net_output, y):\n",
        "    return 2 * (net_output - y)"
      ]
    },
    {
      "cell_type": "markdown",
      "metadata": {
        "id": "98WmyqFYWA-0"
      },
      "source": [
        "Here's the code for the backward pass"
      ]
    },
    {
      "cell_type": "code",
      "execution_count": 8,
      "metadata": {
        "id": "LJng7WpRPLMz"
      },
      "outputs": [],
      "source": [
        "# We'll need the indicator function\n",
        "def indicator_function(x):\n",
        "    x_in = np.array(x)\n",
        "    x_in[x_in >= 0] = 1\n",
        "    x_in[x_in < 0] = 0\n",
        "    return x_in\n",
        "\n",
        "\n",
        "# Main backward pass routine\n",
        "def backward_pass(all_weights, all_biases, all_f, all_h, y):\n",
        "    # Retrieve number of layers\n",
        "    K = len(all_weights) - 1\n",
        "\n",
        "    # We'll store the derivatives dl_dweights and dl_dbiases in lists as well\n",
        "    all_dl_dweights = [None] * (K + 1)\n",
        "    all_dl_dbiases = [None] * (K + 1)\n",
        "    # And we'll store the derivatives of the loss with respect to the activation and preactivations in lists\n",
        "    all_dl_df = [None] * (K + 1)\n",
        "    all_dl_dh = [None] * (K + 1)\n",
        "    # Again for convenience we'll stick with the convention that all_h[0] is the net input and all_f[k] in the net output\n",
        "\n",
        "    # Compute derivatives of net output with respect to loss\n",
        "    all_dl_df[K] = np.array(d_loss_d_output(all_f[K], y))\n",
        "\n",
        "    # Now work backwards through the network\n",
        "    for layer in range(K, -1, -1):\n",
        "        # Calculate the derivatives of biases at layer from all_dl_df[K]. (eq 7.13, line 1)\n",
        "        all_dl_dbiases[layer] = np.array(all_dl_df[layer])\n",
        "        # Calculate the derivatives of weight at layer from all_dl_df[K] and all_h[K] (eq 7.13, line 2)\n",
        "        all_dl_dweights[layer] = np.matmul(all_dl_df[layer], all_h[layer].transpose())\n",
        "\n",
        "        # Calculate the derivatives of activations from weight and derivatives of next preactivations (eq 7.13, line 3 second part)\n",
        "        all_dl_dh[layer] = np.matmul(all_weights[layer].transpose(), all_dl_df[layer])\n",
        "        # Calculate the derivatives of the pre-activation f with respect to activation h (eq 7.13, line 3, first part)\n",
        "        if layer > 0:\n",
        "            all_dl_df[layer - 1] = (\n",
        "                indicator_function(all_f[layer - 1]) * all_dl_dh[layer]\n",
        "            )\n",
        "\n",
        "    return all_dl_dweights, all_dl_dbiases, all_dl_dh, all_dl_df"
      ]
    },
    {
      "cell_type": "markdown",
      "metadata": {
        "id": "phFnbthqwhFi"
      },
      "source": [
        "Now let's look at what happens to the magnitude of the gradients on the way back."
      ]
    },
    {
      "cell_type": "code",
      "execution_count": 9,
      "metadata": {
        "id": "9A9MHc4sQvbp"
      },
      "outputs": [
        {
          "name": "stdout",
          "output_type": "stream",
          "text": [
            "Layer 1, std of dl_dh = 446.654\n",
            "Layer 2, std of dl_dh = 340.657\n",
            "Layer 3, std of dl_dh = 109.132\n",
            "Layer 4, std of dl_dh = 56.472\n"
          ]
        }
      ],
      "source": [
        "# Number of layers\n",
        "K = 5\n",
        "# Number of neurons per layer\n",
        "D = 8\n",
        "# Input layer\n",
        "D_i = 1\n",
        "# Output layer\n",
        "D_o = 1\n",
        "# Set variance of initial weights to 1\n",
        "sigma_sq_omega = 1.0\n",
        "# Initialize parameters\n",
        "all_weights, all_biases = init_params(K, D, sigma_sq_omega)\n",
        "\n",
        "# For simplicity we'll just consider the gradients of the weights and biases between the first and last hidden layer\n",
        "n_data = 100\n",
        "aggregate_dl_df = [None] * (K + 1)\n",
        "for layer in range(1, K):\n",
        "    # These 3D arrays will store the gradients for every data point\n",
        "    aggregate_dl_df[layer] = np.zeros((D, n_data))\n",
        "\n",
        "\n",
        "# We'll have to compute the derivatives of the parameters for each data point separately\n",
        "for c_data in range(n_data):\n",
        "    data_in = np.random.normal(size=(1, 1))\n",
        "    y = np.zeros((1, 1))\n",
        "    net_output, all_f, all_h = compute_network_output(data_in, all_weights, all_biases)\n",
        "    all_dl_dweights, all_dl_dbiases, all_dl_dh, all_dl_df = backward_pass(\n",
        "        all_weights, all_biases, all_f, all_h, y\n",
        "    )\n",
        "    for layer in range(1, K):\n",
        "        aggregate_dl_df[layer][:, c_data] = np.squeeze(all_dl_df[layer])\n",
        "\n",
        "for layer in range(1, K):\n",
        "    print(\n",
        "        \"Layer %d, std of dl_dh = %3.3f\"\n",
        "        % (layer, np.std(aggregate_dl_df[layer].ravel()))\n",
        "    )\n"
      ]
    },
    {
      "cell_type": "code",
      "execution_count": 14,
      "metadata": {
        "id": "gtokc0VX0839"
      },
      "outputs": [
        {
          "name": "stdout",
          "output_type": "stream",
          "text": [
            "Layer 1, std of dl_dh = 3864161615668244381461267510373904423054174106385627368088294218476908925943808.000\n",
            "Layer 2, std of dl_dh = 644297462740804713442581900026680633808249992732441097572021950434417515167744.000\n",
            "Layer 3, std of dl_dh = 116256578506420949530034836693026278332620775906201422909563657755039975342080.000\n",
            "Layer 4, std of dl_dh = 18012406883088290574820624800592506146677260025062386448774316977284251123712.000\n",
            "Layer 5, std of dl_dh = 2657382923492155237517743551772839757190473680951583847484196418047631687680.000\n",
            "Layer 6, std of dl_dh = 437115574218245193807908837898776765075349933300781174644617597538000699392.000\n",
            "Layer 7, std of dl_dh = 72289425689022383694959922502133948966481633180885036698402715526890520576.000\n",
            "Layer 8, std of dl_dh = 10229045579369877059893160585567011515114230101645934741607603021463683072.000\n",
            "Layer 9, std of dl_dh = 1622769590787357221165998426801933037786842056906651889376730795250548736.000\n",
            "Layer 10, std of dl_dh = 291677266860870437780232576190188443241514488697868118675201045020278784.000\n",
            "Layer 11, std of dl_dh = 47040925004825710092577350412895155453321563697526018504489216478543872.000\n",
            "Layer 12, std of dl_dh = 7477794785556511029375003658625364545843316026986261679990214882230272.000\n",
            "Layer 13, std of dl_dh = 1079960630998983249752166647771489546517745439258609007782338718859264.000\n",
            "Layer 14, std of dl_dh = 177343205970746323022535267612975334749257408015264898871563036655616.000\n",
            "Layer 15, std of dl_dh = 29375585020824601862634145389942297584964020572455193261493213724672.000\n",
            "Layer 16, std of dl_dh = 4228152175740393840420430907377032438398605544578239798569609461760.000\n",
            "Layer 17, std of dl_dh = 571601369784794895910562631031416171904392915902935598268120301568.000\n",
            "Layer 18, std of dl_dh = 91625806080021443266251793730777964254284721650597171089696096256.000\n",
            "Layer 19, std of dl_dh = 12981649213666814009051399416069478713914622789141796222322868224.000\n",
            "Layer 20, std of dl_dh = 2521931090077676164675708087308560164602781204488721344485130240.000\n",
            "Layer 21, std of dl_dh = 366590511153710277626208122273738805797073624696981250776236032.000\n",
            "Layer 22, std of dl_dh = 51359326687770703173098879471924704121751805248612732145500160.000\n",
            "Layer 23, std of dl_dh = 8400447047412215957163620697461761172837457898324451376758784.000\n",
            "Layer 24, std of dl_dh = 1167175082942496259171991237990073050542486732428288230162432.000\n",
            "Layer 25, std of dl_dh = 189303733379321820949917225330147038267659861123596728401920.000\n",
            "Layer 26, std of dl_dh = 41712815717105567582202429915066996391791998114458492731392.000\n",
            "Layer 27, std of dl_dh = 5462460278894732059145534135797162339003953001623145414656.000\n",
            "Layer 28, std of dl_dh = 956779985561020140674147027633381199677921770355854147584.000\n",
            "Layer 29, std of dl_dh = 163553513870808583520322854044457808217847000530386157568.000\n",
            "Layer 30, std of dl_dh = 27962097471983042838261328844134491112183619548352610304.000\n",
            "Layer 31, std of dl_dh = 4533651840178384461262480437643334259175029047440703488.000\n",
            "Layer 32, std of dl_dh = 692775722996451558577043031371608601967229693599940608.000\n",
            "Layer 33, std of dl_dh = 115846381203838787394170905633539747898124137758982144.000\n",
            "Layer 34, std of dl_dh = 20622026877096516274168395047672140496941939104415744.000\n",
            "Layer 35, std of dl_dh = 3038521358601097647024950608360837004079382839427072.000\n",
            "Layer 36, std of dl_dh = 486644995502083127708682788488469787451507406274560.000\n",
            "Layer 37, std of dl_dh = 67762952239536214087718500711727746678730564567040.000\n",
            "Layer 38, std of dl_dh = 10332488588890049713609937944320962320259371499520.000\n",
            "Layer 39, std of dl_dh = 1461454311950454403604998671601501964603523858432.000\n",
            "Layer 40, std of dl_dh = 258241445087590735643133194351627983599477719040.000\n",
            "Layer 41, std of dl_dh = 40450451143651943003846240257711296490539843584.000\n",
            "Layer 42, std of dl_dh = 7712581729931043277499507203257816560634429440.000\n",
            "Layer 43, std of dl_dh = 1336239794865748202433384835430338808200036352.000\n",
            "Layer 44, std of dl_dh = 231495044789922145345902695211142088107229184.000\n",
            "Layer 45, std of dl_dh = 39500717745074507415666617946744126827397120.000\n",
            "Layer 46, std of dl_dh = 5987633018620222014740819955864148595703808.000\n",
            "Layer 47, std of dl_dh = 966020560711593611954353793080976121790464.000\n",
            "Layer 48, std of dl_dh = 140118487856732220476770152623959995056128.000\n",
            "Layer 49, std of dl_dh = 18817849764518896023941902245604242751488.000\n"
          ]
        }
      ],
      "source": [
        "# You can see that the gradients of the hidden units are increasing on average (the standard deviation is across all hidden units at the layer\n",
        "# and the 100 training examples\n",
        "\n",
        "# TO DO\n",
        "# Change this to 50 layers with 80 hidden units per layer\n",
        "# Number of layers\n",
        "K = 50\n",
        "# Number of neurons per layer\n",
        "D = 80\n",
        "# Input layer\n",
        "D_i = 1\n",
        "# Output layer\n",
        "D_o = 1\n",
        "# Set variance of initial weights to 1\n",
        "sigma_sq_omega = 1.0\n",
        "# Initialize parameters\n",
        "all_weights, all_biases = init_params(K, D, sigma_sq_omega)\n",
        "\n",
        "# For simplicity we'll just consider the gradients of the weights and biases between the first and last hidden layer\n",
        "n_data = 100\n",
        "aggregate_dl_df = [None] * (K + 1)\n",
        "for layer in range(1, K):\n",
        "    # These 3D arrays will store the gradients for every data point\n",
        "    aggregate_dl_df[layer] = np.zeros((D, n_data))\n",
        "\n",
        "\n",
        "# We'll have to compute the derivatives of the parameters for each data point separately\n",
        "for c_data in range(n_data):\n",
        "    data_in = np.random.normal(size=(1, 1))\n",
        "    y = np.zeros((1, 1))\n",
        "    net_output, all_f, all_h = compute_network_output(data_in, all_weights, all_biases)\n",
        "    all_dl_dweights, all_dl_dbiases, all_dl_dh, all_dl_df = backward_pass(\n",
        "        all_weights, all_biases, all_f, all_h, y\n",
        "    )\n",
        "    for layer in range(1, K):\n",
        "        aggregate_dl_df[layer][:, c_data] = np.squeeze(all_dl_df[layer])\n",
        "\n",
        "for layer in range(1, K):\n",
        "    print(\n",
        "        \"Layer %d, std of dl_dh = %3.3f\"\n",
        "        % (layer, np.std(aggregate_dl_df[layer].ravel()))\n",
        "    )\n",
        "# TO DO\n",
        "# Now experiment with sigma_sq_omega to try to stop the variance of the gradients exploding\n"
      ]
    },
    {
      "cell_type": "code",
      "execution_count": null,
      "metadata": {},
      "outputs": [],
      "source": []
    }
  ],
  "metadata": {
    "colab": {
      "include_colab_link": true,
      "provenance": []
    },
    "kernelspec": {
      "display_name": "d2l",
      "language": "python",
      "name": "python3"
    },
    "language_info": {
      "codemirror_mode": {
        "name": "ipython",
        "version": 3
      },
      "file_extension": ".py",
      "mimetype": "text/x-python",
      "name": "python",
      "nbconvert_exporter": "python",
      "pygments_lexer": "ipython3",
      "version": "3.10.14"
    }
  },
  "nbformat": 4,
  "nbformat_minor": 0
}
