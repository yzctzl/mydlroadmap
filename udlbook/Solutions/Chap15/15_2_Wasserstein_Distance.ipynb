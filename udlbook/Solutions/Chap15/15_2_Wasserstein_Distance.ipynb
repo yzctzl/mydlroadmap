{
  "cells": [
    {
      "cell_type": "markdown",
      "metadata": {
        "colab_type": "text",
        "id": "view-in-github"
      },
      "source": [
        "<a href=\"https://colab.research.google.com/github/udlbook/udlbook/blob/main/Notebooks/Chap15/15_2_Wasserstein_Distance.ipynb\" target=\"_parent\"><img src=\"https://colab.research.google.com/assets/colab-badge.svg\" alt=\"Open In Colab\"/></a>"
      ]
    },
    {
      "cell_type": "markdown",
      "metadata": {
        "id": "t9vk9Elugvmi"
      },
      "source": [
        "# **Notebook 15.2: Wasserstein Distance**\n",
        "\n",
        "This notebook investigates the GAN toy example as illustrated in figure 15.1 in the book.\n",
        "\n",
        "Work through the cells below, running each cell in turn. In various places you will see the words \"TO DO\". Follow the instructions at these places and make predictions about what is going to happen or write code to complete the functions.\n",
        "\n",
        "Contact me at udlbookmail@gmail.com if you find any mistakes or have any suggestions."
      ]
    },
    {
      "cell_type": "code",
      "execution_count": 1,
      "metadata": {
        "id": "OLComQyvCIJ7"
      },
      "outputs": [],
      "source": [
        "import numpy as np\n",
        "import matplotlib.pyplot as plt\n",
        "from matplotlib import cm\n",
        "from matplotlib.colors import ListedColormap\n",
        "from scipy.optimize import linprog"
      ]
    },
    {
      "cell_type": "code",
      "execution_count": 2,
      "metadata": {
        "id": "ZIfQwhd-AV6L"
      },
      "outputs": [
        {
          "data": {
            "image/png": "[encoded data removed]",
            "text/plain": [
              "<Figure size 640x480 with 2 Axes>"
            ]
          },
          "metadata": {},
          "output_type": "display_data"
        }
      ],
      "source": [
        "# Define two probability distributions\n",
        "p = np.array([5, 3, 2, 1, 8, 7, 5, 9, 2, 1])\n",
        "q = np.array([4, 10, 1, 1, 4, 6, 3, 2, 0, 1])\n",
        "p = p / np.sum(p)\n",
        "q = q / np.sum(q)\n",
        "# Draw those distributions\n",
        "fig, ax = plt.subplots(2, 1)\n",
        "x = np.arange(0, p.size, 1)\n",
        "ax[0].bar(x, p, color=\"#cccccc\")\n",
        "ax[0].set_ylim([0, 0.35])\n",
        "ax[0].set_ylabel(\"p(x=i)\")\n",
        "\n",
        "ax[1].bar(x, q, color=\"#f47a60\")\n",
        "ax[1].set_ylim([0, 0.35])\n",
        "ax[1].set_ylabel(\"q(x=j)\")\n",
        "plt.show()"
      ]
    },
    {
      "cell_type": "code",
      "execution_count": 11,
      "metadata": {
        "id": "EZSlZQzWBKTm"
      },
      "outputs": [],
      "source": [
        "# TODO Define the distance matrix from figure 15.8d\n",
        "# The index should be normalized before being used in the distance calculation.\n",
        "# Replace this line\n",
        "dist_mat = np.zeros((10,10))\n",
        "\n",
        "# Divide unit mass distribution starting at 0 until 10 with equal distribution with 9 central edges for movement. \n",
        "\n",
        "for i in range(len(p)):\n",
        "    for j in range(len(q)):\n",
        "        dist_mat[i,j] = np.abs(i - j)\n",
        "    dist_mat[i] = dist_mat[i] / (len(p)-1)\n",
        "\n",
        "# vectorize the distance matrix\n",
        "c = dist_mat.flatten()"
      ]
    },
    {
      "cell_type": "code",
      "execution_count": 12,
      "metadata": {
        "id": "ABRANmp6F8iQ"
      },
      "outputs": [],
      "source": [
        "# Define pretty colormap\n",
        "my_colormap_vals_hex = (\n",
        "    \"2a0902\",\n",
        "    \"2b0a03\",\n",
        "    \"2c0b04\",\n",
        "    \"2d0c05\",\n",
        "    \"2e0c06\",\n",
        "    \"2f0d07\",\n",
        "    \"300d08\",\n",
        "    \"310e09\",\n",
        "    \"320f0a\",\n",
        "    \"330f0b\",\n",
        "    \"34100b\",\n",
        "    \"35110c\",\n",
        "    \"36110d\",\n",
        "    \"37120e\",\n",
        "    \"38120f\",\n",
        "    \"39130f\",\n",
        "    \"3a1410\",\n",
        "    \"3b1411\",\n",
        "    \"3c1511\",\n",
        "    \"3d1612\",\n",
        "    \"3e1613\",\n",
        "    \"3f1713\",\n",
        "    \"401714\",\n",
        "    \"411814\",\n",
        "    \"421915\",\n",
        "    \"431915\",\n",
        "    \"451a16\",\n",
        "    \"461b16\",\n",
        "    \"471b17\",\n",
        "    \"481c17\",\n",
        "    \"491d18\",\n",
        "    \"4a1d18\",\n",
        "    \"4b1e19\",\n",
        "    \"4c1f19\",\n",
        "    \"4d1f1a\",\n",
        "    \"4e201b\",\n",
        "    \"50211b\",\n",
        "    \"51211c\",\n",
        "    \"52221c\",\n",
        "    \"53231d\",\n",
        "    \"54231d\",\n",
        "    \"55241e\",\n",
        "    \"56251e\",\n",
        "    \"57261f\",\n",
        "    \"58261f\",\n",
        "    \"592720\",\n",
        "    \"5b2821\",\n",
        "    \"5c2821\",\n",
        "    \"5d2922\",\n",
        "    \"5e2a22\",\n",
        "    \"5f2b23\",\n",
        "    \"602b23\",\n",
        "    \"612c24\",\n",
        "    \"622d25\",\n",
        "    \"632e25\",\n",
        "    \"652e26\",\n",
        "    \"662f26\",\n",
        "    \"673027\",\n",
        "    \"683027\",\n",
        "    \"693128\",\n",
        "    \"6a3229\",\n",
        "    \"6b3329\",\n",
        "    \"6c342a\",\n",
        "    \"6d342a\",\n",
        "    \"6f352b\",\n",
        "    \"70362c\",\n",
        "    \"71372c\",\n",
        "    \"72372d\",\n",
        "    \"73382e\",\n",
        "    \"74392e\",\n",
        "    \"753a2f\",\n",
        "    \"763a2f\",\n",
        "    \"773b30\",\n",
        "    \"783c31\",\n",
        "    \"7a3d31\",\n",
        "    \"7b3e32\",\n",
        "    \"7c3e33\",\n",
        "    \"7d3f33\",\n",
        "    \"7e4034\",\n",
        "    \"7f4134\",\n",
        "    \"804235\",\n",
        "    \"814236\",\n",
        "    \"824336\",\n",
        "    \"834437\",\n",
        "    \"854538\",\n",
        "    \"864638\",\n",
        "    \"874739\",\n",
        "    \"88473a\",\n",
        "    \"89483a\",\n",
        "    \"8a493b\",\n",
        "    \"8b4a3c\",\n",
        "    \"8c4b3c\",\n",
        "    \"8d4c3d\",\n",
        "    \"8e4c3e\",\n",
        "    \"8f4d3f\",\n",
        "    \"904e3f\",\n",
        "    \"924f40\",\n",
        "    \"935041\",\n",
        "    \"945141\",\n",
        "    \"955242\",\n",
        "    \"965343\",\n",
        "    \"975343\",\n",
        "    \"985444\",\n",
        "    \"995545\",\n",
        "    \"9a5646\",\n",
        "    \"9b5746\",\n",
        "    \"9c5847\",\n",
        "    \"9d5948\",\n",
        "    \"9e5a49\",\n",
        "    \"9f5a49\",\n",
        "    \"a05b4a\",\n",
        "    \"a15c4b\",\n",
        "    \"a35d4b\",\n",
        "    \"a45e4c\",\n",
        "    \"a55f4d\",\n",
        "    \"a6604e\",\n",
        "    \"a7614e\",\n",
        "    \"a8624f\",\n",
        "    \"a96350\",\n",
        "    \"aa6451\",\n",
        "    \"ab6552\",\n",
        "    \"ac6552\",\n",
        "    \"ad6653\",\n",
        "    \"ae6754\",\n",
        "    \"af6855\",\n",
        "    \"b06955\",\n",
        "    \"b16a56\",\n",
        "    \"b26b57\",\n",
        "    \"b36c58\",\n",
        "    \"b46d59\",\n",
        "    \"b56e59\",\n",
        "    \"b66f5a\",\n",
        "    \"b7705b\",\n",
        "    \"b8715c\",\n",
        "    \"b9725d\",\n",
        "    \"ba735d\",\n",
        "    \"bb745e\",\n",
        "    \"bc755f\",\n",
        "    \"bd7660\",\n",
        "    \"be7761\",\n",
        "    \"bf7862\",\n",
        "    \"c07962\",\n",
        "    \"c17a63\",\n",
        "    \"c27b64\",\n",
        "    \"c27c65\",\n",
        "    \"c37d66\",\n",
        "    \"c47e67\",\n",
        "    \"c57f68\",\n",
        "    \"c68068\",\n",
        "    \"c78169\",\n",
        "    \"c8826a\",\n",
        "    \"c9836b\",\n",
        "    \"ca846c\",\n",
        "    \"cb856d\",\n",
        "    \"cc866e\",\n",
        "    \"cd876f\",\n",
        "    \"ce886f\",\n",
        "    \"ce8970\",\n",
        "    \"cf8a71\",\n",
        "    \"d08b72\",\n",
        "    \"d18c73\",\n",
        "    \"d28d74\",\n",
        "    \"d38e75\",\n",
        "    \"d48f76\",\n",
        "    \"d59077\",\n",
        "    \"d59178\",\n",
        "    \"d69279\",\n",
        "    \"d7937a\",\n",
        "    \"d8957b\",\n",
        "    \"d9967b\",\n",
        "    \"da977c\",\n",
        "    \"da987d\",\n",
        "    \"db997e\",\n",
        "    \"dc9a7f\",\n",
        "    \"dd9b80\",\n",
        "    \"de9c81\",\n",
        "    \"de9d82\",\n",
        "    \"df9e83\",\n",
        "    \"e09f84\",\n",
        "    \"e1a185\",\n",
        "    \"e2a286\",\n",
        "    \"e2a387\",\n",
        "    \"e3a488\",\n",
        "    \"e4a589\",\n",
        "    \"e5a68a\",\n",
        "    \"e5a78b\",\n",
        "    \"e6a88c\",\n",
        "    \"e7aa8d\",\n",
        "    \"e7ab8e\",\n",
        "    \"e8ac8f\",\n",
        "    \"e9ad90\",\n",
        "    \"eaae91\",\n",
        "    \"eaaf92\",\n",
        "    \"ebb093\",\n",
        "    \"ecb295\",\n",
        "    \"ecb396\",\n",
        "    \"edb497\",\n",
        "    \"eeb598\",\n",
        "    \"eeb699\",\n",
        "    \"efb79a\",\n",
        "    \"efb99b\",\n",
        "    \"f0ba9c\",\n",
        "    \"f1bb9d\",\n",
        "    \"f1bc9e\",\n",
        "    \"f2bd9f\",\n",
        "    \"f2bfa1\",\n",
        "    \"f3c0a2\",\n",
        "    \"f3c1a3\",\n",
        "    \"f4c2a4\",\n",
        "    \"f5c3a5\",\n",
        "    \"f5c5a6\",\n",
        "    \"f6c6a7\",\n",
        "    \"f6c7a8\",\n",
        "    \"f7c8aa\",\n",
        "    \"f7c9ab\",\n",
        "    \"f8cbac\",\n",
        "    \"f8ccad\",\n",
        "    \"f8cdae\",\n",
        "    \"f9ceb0\",\n",
        "    \"f9d0b1\",\n",
        "    \"fad1b2\",\n",
        "    \"fad2b3\",\n",
        "    \"fbd3b4\",\n",
        "    \"fbd5b6\",\n",
        "    \"fbd6b7\",\n",
        "    \"fcd7b8\",\n",
        "    \"fcd8b9\",\n",
        "    \"fcdaba\",\n",
        "    \"fddbbc\",\n",
        "    \"fddcbd\",\n",
        "    \"fddebe\",\n",
        "    \"fddfbf\",\n",
        "    \"fee0c1\",\n",
        "    \"fee1c2\",\n",
        "    \"fee3c3\",\n",
        "    \"fee4c5\",\n",
        "    \"ffe5c6\",\n",
        "    \"ffe7c7\",\n",
        "    \"ffe8c9\",\n",
        "    \"ffe9ca\",\n",
        "    \"ffebcb\",\n",
        "    \"ffeccd\",\n",
        "    \"ffedce\",\n",
        "    \"ffefcf\",\n",
        "    \"fff0d1\",\n",
        "    \"fff2d2\",\n",
        "    \"fff3d3\",\n",
        "    \"fff4d5\",\n",
        "    \"fff6d6\",\n",
        "    \"fff7d8\",\n",
        "    \"fff8d9\",\n",
        "    \"fffada\",\n",
        "    \"fffbdc\",\n",
        "    \"fffcdd\",\n",
        "    \"fffedf\",\n",
        "    \"ffffe0\",\n",
        ")\n",
        "my_colormap_vals_dec = np.array(\n",
        "    [int(element, base=16) for element in my_colormap_vals_hex]\n",
        ")\n",
        "r = np.floor(my_colormap_vals_dec / (256 * 256))\n",
        "g = np.floor((my_colormap_vals_dec - r * 256 * 256) / 256)\n",
        "b = np.floor(my_colormap_vals_dec - r * 256 * 256 - g * 256)\n",
        "my_colormap = ListedColormap(np.vstack((r, g, b)).transpose() / 255.0)\n",
        "\n",
        "\n",
        "def draw_2D_heatmap(data, title, my_colormap):\n",
        "    # Make grid of intercept/slope values to plot\n",
        "    xv, yv = np.meshgrid(np.linspace(0, 1, 10), np.linspace(0, 1, 10))\n",
        "    fig, ax = plt.subplots()\n",
        "    fig.set_size_inches(4, 4)\n",
        "    plt.imshow(data, cmap=my_colormap)\n",
        "    ax.set_title(title)\n",
        "    ax.set_xlabel(\"$q$\")\n",
        "    ax.set_ylabel(\"$p$\")\n",
        "    plt.show()"
      ]
    },
    {
      "cell_type": "code",
      "execution_count": 13,
      "metadata": {
        "id": "G0HFPBXyHT6V"
      },
      "outputs": [
        {
          "data": {
            "image/png": "[encoded data removed]",
            "text/plain": [
              "<Figure size 400x400 with 1 Axes>"
            ]
          },
          "metadata": {},
          "output_type": "display_data"
        }
      ],
      "source": [
        "draw_2D_heatmap(dist_mat, r\"Distance $|i-j|$\", my_colormap)"
      ]
    },
    {
      "cell_type": "code",
      "execution_count": 14,
      "metadata": {
        "id": "SfqeT3KlHWrt"
      },
      "outputs": [],
      "source": [
        "# Define b to be the verticalconcatenation of p and q\n",
        "b = np.hstack((p, q))[np.newaxis].transpose()"
      ]
    },
    {
      "cell_type": "code",
      "execution_count": 15,
      "metadata": {
        "id": "7KrybL96IuNW"
      },
      "outputs": [
        {
          "name": "stdout",
          "output_type": "stream",
          "text": [
            "Check if A @ TPFlat == b =>  True\n"
          ]
        },
        {
          "data": {
            "text/plain": [
              "array([[1., 1., 1., ..., 0., 0., 0.],\n",
              "       [0., 0., 0., ..., 0., 0., 0.],\n",
              "       [0., 0., 0., ..., 0., 0., 0.],\n",
              "       ...,\n",
              "       [0., 0., 0., ..., 1., 0., 0.],\n",
              "       [0., 0., 0., ..., 0., 1., 0.],\n",
              "       [0., 0., 0., ..., 0., 0., 1.]], shape=(20, 100))"
            ]
          },
          "execution_count": 15,
          "metadata": {},
          "output_type": "execute_result"
        }
      ],
      "source": [
        "# TODO:  Now construct the matrix A that has the initial distribution constraints\n",
        "# so that A @ TPFlat=b where TPFlat is the transport plan TP vectorized rows first so TPFlat = np.flatten(TP)\n",
        "# Replace this line:\n",
        "A = np.zeros((20,100))\n",
        "TPFlat = np.array([np.outer(p,q).flatten()]).T\n",
        "m = len(p)\n",
        "n = len(q)\n",
        "\n",
        "for i in range(m):\n",
        "    for j in range(n):\n",
        "        A[i, i * n + j] = 1  # Row constraint for source\n",
        "\n",
        "# Column constraints (for q[j])\n",
        "for j in range(n):\n",
        "    for i in range(m):\n",
        "        A[m + j, i * n + j] = 1  # Column constraint for target\n",
        "\n",
        "print (\"Check if A @ TPFlat == b => \", np.allclose((A @ TPFlat), b, atol=0.001))\n",
        "A"
      ]
    },
    {
      "cell_type": "markdown",
      "metadata": {
        "id": "zEuEtU33S8Ly"
      },
      "source": [
        "Now we have all of the things we need.  The vectorized distance matrix $\\mathbf{c}$,  the constraint matrix $\\mathbf{A}$, the vectorized and concatenated original distribution $\\mathbf{b}$.  We can run the linear programming optimization."
      ]
    },
    {
      "cell_type": "code",
      "execution_count": 16,
      "metadata": {
        "id": "wCfsOVbeSmF5"
      },
      "outputs": [
        {
          "name": "stdout",
          "output_type": "stream",
          "text": [
            "        message: Optimization terminated successfully. (HiGHS Status 7: Optimal)\n",
            "        success: True\n",
            "         status: 0\n",
            "            fun: 0.15148578811369506\n",
            "              x: [ 1.163e-01  0.000e+00 ...  0.000e+00  2.326e-02]\n",
            "            nit: 24\n",
            "          lower:  residual: [ 1.163e-01  0.000e+00 ...  0.000e+00\n",
            "                              2.326e-02]\n",
            "                 marginals: [ 0.000e+00  2.222e-01 ...  2.222e-01\n",
            "                              0.000e+00]\n",
            "          upper:  residual: [       inf        inf ...        inf\n",
            "                                    inf]\n",
            "                 marginals: [ 0.000e+00  0.000e+00 ...  0.000e+00\n",
            "                              0.000e+00]\n",
            "          eqlin:  residual: [ 0.000e+00  0.000e+00 ...  0.000e+00\n",
            "                             -4.163e-17]\n",
            "                 marginals: [-7.778e-01 -6.667e-01 ... -1.111e-01\n",
            "                             -0.000e+00]\n",
            "        ineqlin:  residual: []\n",
            "                 marginals: []\n",
            " mip_node_count: 0\n",
            " mip_dual_bound: 0.0\n",
            "        mip_gap: 0.0\n"
          ]
        }
      ],
      "source": [
        "# We don't need the constraint that p>0 as this is the default\n",
        "opt = linprog(c, A_eq=A, b_eq=b)\n",
        "print(opt)"
      ]
    },
    {
      "cell_type": "markdown",
      "metadata": {
        "id": "vpkkOOI2agyl"
      },
      "source": [
        "Extract the answer and display"
      ]
    },
    {
      "cell_type": "code",
      "execution_count": 17,
      "metadata": {
        "id": "nZGfkrbRV_D0"
      },
      "outputs": [
        {
          "data": {
            "image/png": "[encoded data removed]",
            "text/plain": [
              "<Figure size 400x400 with 1 Axes>"
            ]
          },
          "metadata": {},
          "output_type": "display_data"
        }
      ],
      "source": [
        "TP = np.array(opt.x).reshape(10, 10)\n",
        "draw_2D_heatmap(TP, r\"Transport plan $\\mathbf{P}$\", my_colormap)"
      ]
    },
    {
      "cell_type": "markdown",
      "metadata": {
        "id": "ZEiRYRVgalsJ"
      },
      "source": [
        "Compute the Wasserstein distance\n"
      ]
    },
    {
      "cell_type": "code",
      "execution_count": 18,
      "metadata": {
        "id": "yiQ_8j-Raq3c"
      },
      "outputs": [
        {
          "name": "stdout",
          "output_type": "stream",
          "text": [
            "Your Wasserstein distance =  0.1514857881136951\n",
            "Correct answer =  0.15148578811369506\n"
          ]
        }
      ],
      "source": [
        "was = np.sum(TP * dist_mat)\n",
        "print(\"Your Wasserstein distance = \", was)\n",
        "print(\"Correct answer =  0.15148578811369506\")"
      ]
    },
    {
      "cell_type": "markdown",
      "metadata": {
        "id": "zf8yTusua71s"
      },
      "source": [
        "TODO -- Compute the\n",
        "\n",
        "*   Forward KL divergence $D_{KL}[p,q]$ between these distributions\n",
        "*   Reverse KL divergence $D_{KL}[q,p]$ between these distributions\n",
        "*  Jensen-Shannon divergence $D_{JS}[p,q]$ between these distributions\n",
        "\n",
        "What do you conclude?"
      ]
    },
    {
      "cell_type": "code",
      "execution_count": 19,
      "metadata": {},
      "outputs": [
        {
          "name": "stdout",
          "output_type": "stream",
          "text": [
            "Dist p => [0.11627907 0.06976744 0.04651163 0.02325581 0.18604651 0.1627907\n",
            " 0.11627907 0.20930233 0.04651163 0.02325581]\n",
            "Dist q => [0.125   0.3125  0.03125 0.03125 0.125   0.1875  0.09375 0.0625  0.\n",
            " 0.03125]\n",
            "Calculated KL Div (foward) = 0.7206054212747435\n",
            "Calculated KL Div (backwards) = 0.3646997839171107\n",
            "scipy stats KL (foward) =  0.7206064212742436\n",
            "scipy stats KL (backwards) =  0.36469841921819124\n"
          ]
        }
      ],
      "source": [
        "from scipy.stats import entropy\n",
        "\n",
        "# KL divergence. \n",
        "print (\"Dist p =>\", p)\n",
        "print (\"Dist q =>\", q)\n",
        "\n",
        "# replace 0s with very small value in the distribution KL div ignores them by defeault\n",
        "\n",
        "p[np.where(p == 0)] = 0.000001\n",
        "q[np.where(q == 0)] = 0.000001\n",
        "\n",
        "def KL(a, b):\n",
        "    dkl = 0\n",
        "    for i,j in zip(a,b):\n",
        "        if i != 0:\n",
        "            dkl += i*np.log(i/j)\n",
        "    return dkl \n",
        "\n",
        "print ( \"Calculated KL Div (foward) =\", KL(p,q))\n",
        "print ( \"Calculated KL Div (backwards) =\", KL(q,p))\n",
        "\n",
        "print (\"scipy stats KL (foward) = \", entropy(p,q))\n",
        "print (\"scipy stats KL (backwards) = \", entropy(q,p))\n"
      ]
    },
    {
      "cell_type": "code",
      "execution_count": 20,
      "metadata": {},
      "outputs": [
        {
          "name": "stdout",
          "output_type": "stream",
          "text": [
            "[0.12063953 0.19113372 0.03888081 0.02725291 0.15552326 0.17514535\n",
            " 0.10501453 0.13590116 0.02325631 0.02725291]\n",
            "JSE =  0.29012522717462896 0.2901251530048729\n"
          ]
        }
      ],
      "source": [
        "# Jensen shannon entropy \n",
        "from scipy.spatial.distance import jensenshannon\n",
        "\n",
        "# Take point-wise mean of prob distributions p,q\n",
        "M=np.array([(a+b)/2 for a,b in zip(p,q)])\n",
        "print (M)\n",
        "\n",
        "jse = np.sqrt((KL(p,M) + KL(q,M)) / 2)\n",
        "print (\"JSE = \", jse, jensenshannon(p,q))"
      ]
    }
  ],
  "metadata": {
    "colab": {
      "include_colab_link": true,
      "provenance": []
    },
    "kernelspec": {
      "display_name": "venv",
      "language": "python",
      "name": "python3"
    },
    "language_info": {
      "codemirror_mode": {
        "name": "ipython",
        "version": 3
      },
      "file_extension": ".py",
      "mimetype": "text/x-python",
      "name": "python",
      "nbconvert_exporter": "python",
      "pygments_lexer": "ipython3",
      "version": "3.12.8"
    }
  },
  "nbformat": 4,
  "nbformat_minor": 0
}
