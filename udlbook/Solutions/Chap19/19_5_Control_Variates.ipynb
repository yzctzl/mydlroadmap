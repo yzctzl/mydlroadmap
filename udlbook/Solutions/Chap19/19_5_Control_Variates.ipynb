{
  "cells": [
    {
      "cell_type": "markdown",
      "metadata": {
        "colab_type": "text",
        "id": "view-in-github"
      },
      "source": [
        "<a href=\"https://colab.research.google.com/github/udlbook/udlbook/blob/main/Notebooks/Chap19/19_5_Control_Variates.ipynb\" target=\"_parent\"><img src=\"https://colab.research.google.com/assets/colab-badge.svg\" alt=\"Open In Colab\"/></a>"
      ]
    },
    {
      "cell_type": "markdown",
      "metadata": {
        "id": "t9vk9Elugvmi"
      },
      "source": [
        "# **Notebook 19.5: Control variates**\n",
        "\n",
        "This notebook investigates the method of control variates as described in figure 19.16\n",
        "\n",
        "\n",
        "Work through the cells below, running each cell in turn. In various places you will see the words \"TO DO\". Follow the instructions at these places and make predictions about what is going to happen or write code to complete the functions.\n",
        "\n",
        "Contact me at udlbookmail@gmail.com if you find any mistakes or have any suggestions."
      ]
    },
    {
      "cell_type": "code",
      "execution_count": 1,
      "metadata": {
        "id": "OLComQyvCIJ7"
      },
      "outputs": [],
      "source": [
        "import numpy as np\n",
        "import matplotlib.pyplot as plt"
      ]
    },
    {
      "cell_type": "markdown",
      "metadata": {
        "id": "uwmhcAZBzTRO"
      },
      "source": [
        "Generate from our two variables, $a$ and $b$.  We are interested in estimating the mean of $a$, but we can use $b$$ to improve our estimates if it is correlated"
      ]
    },
    {
      "cell_type": "code",
      "execution_count": 2,
      "metadata": {
        "id": "bC8MBXPawQJ3"
      },
      "outputs": [],
      "source": [
        "# Sample from two variables with mean zero, standard deviation one, and a given correlation coefficient\n",
        "def get_samples(n_samples, correlation_coeff=0.8):\n",
        "    a = np.random.normal(size=(1, n_samples))\n",
        "    temp = np.random.normal(size=(1, n_samples))\n",
        "    b = (\n",
        "        correlation_coeff * a\n",
        "        + np.sqrt(1 - correlation_coeff * correlation_coeff) * temp\n",
        "    )\n",
        "    return a, b"
      ]
    },
    {
      "cell_type": "code",
      "execution_count": 3,
      "metadata": {
        "id": "1cT66nbRyW34"
      },
      "outputs": [
        {
          "name": "stdout",
          "output_type": "stream",
          "text": [
            "Mean of a = 0.000,  Std of a = 1.000\n",
            "Mean of b = 0.000,  Std of b = 1.000\n"
          ]
        }
      ],
      "source": [
        "N = 10000000\n",
        "(\n",
        "    a,\n",
        "    b,\n",
        ") = get_samples(N)\n",
        "\n",
        "# Verify that these two variables have zero mean and unit standard deviation\n",
        "print(\"Mean of a = %3.3f,  Std of a = %3.3f\" % (np.mean(a), np.std(a)))\n",
        "print(\"Mean of b = %3.3f,  Std of b = %3.3f\" % (np.mean(b), np.std(b)))"
      ]
    },
    {
      "cell_type": "markdown",
      "metadata": {
        "id": "PWoYRpjS0Nlf"
      },
      "source": [
        "Now let's samples $N=10$ examples from $a$ and estimate their mean $\\mathbb{E}[a]$.  We'll do this 1000000 times and then compute the variance of those estimates."
      ]
    },
    {
      "cell_type": "code",
      "execution_count": 7,
      "metadata": {
        "id": "n6Uem2aYzBp7"
      },
      "outputs": [
        {
          "name": "stdout",
          "output_type": "stream",
          "text": [
            "Standard estimator mean = -0.000, Standard estimator variance = 0.200\n"
          ]
        }
      ],
      "source": [
        "n_estimate = 1000000\n",
        "\n",
        "N = 5\n",
        "\n",
        "# TODO -- sample N examples of variable $a$\n",
        "# Compute the mean of each\n",
        "# Compute the mean and variance of these estimates of the mean\n",
        "# Replace this line\n",
        "estimator = [np.mean(get_samples(N)[0]) for i in range (n_estimate)]\n",
        "# Compute the mean of these estimates of the mean\n",
        "mean_of_estimator_1 = np.mean(estimator)\n",
        "std_of_estimator_1 = np.var(estimator)\n",
        "\n",
        "print(\n",
        "    \"Standard estimator mean = %3.3f, Standard estimator variance = %3.3f\"\n",
        "    % (mean_of_estimator_1, std_of_estimator_1)\n",
        ")"
      ]
    },
    {
      "cell_type": "markdown",
      "metadata": {
        "id": "F-af86z13TFc"
      },
      "source": [
        "Now let's estimate the mean $\\mathbf{E}[a]$ of $a$ by computing $a-b$ where $b$ is correlated with $a$"
      ]
    },
    {
      "cell_type": "code",
      "execution_count": 5,
      "metadata": {
        "id": "MrEVDggY0IGU"
      },
      "outputs": [
        {
          "name": "stdout",
          "output_type": "stream",
          "text": [
            "Control variate estimator mean = -0.000, Control variate estimator variance = 0.072\n"
          ]
        }
      ],
      "source": [
        "n_estimate = 1000000\n",
        "\n",
        "N = 5\n",
        "\n",
        "# TODO -- sample N examples of variables $a$ and $b$\n",
        "# Compute $c=a-b$ for each and then compute the mean of $c$\n",
        "# Compute the mean and variance of these estimates of the mean of $c$\n",
        "# Replace this line\n",
        "def diff():\n",
        "    correlation_coeff = 0.8\n",
        "    a,b = get_samples(N)\n",
        "    return np.mean(a-correlation_coeff*b)\n",
        "\n",
        "estimator = [diff() for i in range (n_estimate)]\n",
        "mean_of_estimator_2 = np.mean(estimator)\n",
        "std_of_estimator_2 = np.var(estimator)\n",
        "\n",
        "print(\n",
        "    \"Control variate estimator mean = %3.3f, Control variate estimator variance = %3.3f\"\n",
        "    % (mean_of_estimator_2, std_of_estimator_2)\n",
        ")"
      ]
    },
    {
      "cell_type": "markdown",
      "metadata": {
        "id": "Jklzkca14ofS"
      },
      "source": [
        "Note that they both have a very similar mean, but the second estimator has a lower variance.   \n",
        "\n",
        "TODO -- Experiment with different samples sizes $N$ and correlation coefficients."
      ]
    }
  ],
  "metadata": {
    "colab": {
      "authorship_tag": "ABX9TyO6CLgMIO5bUVAMkzPT3z4y",
      "include_colab_link": true,
      "provenance": []
    },
    "kernelspec": {
      "display_name": "venv",
      "language": "python",
      "name": "python3"
    },
    "language_info": {
      "codemirror_mode": {
        "name": "ipython",
        "version": 3
      },
      "file_extension": ".py",
      "mimetype": "text/x-python",
      "name": "python",
      "nbconvert_exporter": "python",
      "pygments_lexer": "ipython3",
      "version": "3.12.8"
    }
  },
  "nbformat": 4,
  "nbformat_minor": 0
}
