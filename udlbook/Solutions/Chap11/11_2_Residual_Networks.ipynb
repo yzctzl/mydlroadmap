{
  "cells": [
    {
      "cell_type": "markdown",
      "metadata": {
        "colab_type": "text",
        "id": "view-in-github"
      },
      "source": [
        "<a href=\"https://colab.research.google.com/github/udlbook/udlbook/blob/main/Notebooks/Chap11/11_2_Residual_Networks.ipynb\" target=\"_parent\"><img src=\"https://colab.research.google.com/assets/colab-badge.svg\" alt=\"Open In Colab\"/></a>"
      ]
    },
    {
      "cell_type": "markdown",
      "metadata": {
        "id": "t9vk9Elugvmi"
      },
      "source": [
        "# **Notebook 11.2: Residual Networks**\n",
        "\n",
        "This notebook adapts the networks for MNIST1D to use residual connections.\n",
        "\n",
        "Work through the cells below, running each cell in turn. In various places you will see the words \"TO DO\". Follow the instructions at these places and make predictions about what is going to happen or write code to complete the functions.\n",
        "\n",
        "Contact me at udlbookmail@gmail.com if you find any mistakes or have any suggestions.\n",
        "\n"
      ]
    },
    {
      "cell_type": "code",
      "execution_count": null,
      "metadata": {
        "id": "D5yLObtZCi9J"
      },
      "outputs": [],
      "source": [
        "# Run this if you're in a Colab to install MNIST 1D repository\n",
        "%pip install git+https://github.com/greydanus/mnist1d"
      ]
    },
    {
      "cell_type": "code",
      "execution_count": 1,
      "metadata": {
        "id": "YrXWAH7sUWvU"
      },
      "outputs": [],
      "source": [
        "import numpy as np\n",
        "import torch\n",
        "import torch.nn as nn\n",
        "from torch.utils.data import TensorDataset, DataLoader\n",
        "from torch.optim.lr_scheduler import StepLR\n",
        "import matplotlib.pyplot as plt\n",
        "import mnist1d"
      ]
    },
    {
      "cell_type": "code",
      "execution_count": 2,
      "metadata": {
        "id": "twI72ZCrCt5z"
      },
      "outputs": [
        {
          "name": "stdout",
          "output_type": "stream",
          "text": [
            "Did or could not load data from ./mnist1d_data.pkl. Rebuilding dataset...\n",
            "Examples in training set: 4000\n",
            "Examples in test set: 1000\n",
            "Length of each example: 40\n"
          ]
        }
      ],
      "source": [
        "args = mnist1d.data.get_dataset_args()\n",
        "data = mnist1d.data.get_dataset(\n",
        "    args, path=\"./mnist1d_data.pkl\", download=False, regenerate=False\n",
        ")\n",
        "\n",
        "# The training and test input and outputs are in\n",
        "# data['x'], data['y'], data['x_test'], and data['y_test']\n",
        "print(\"Examples in training set: {}\".format(len(data[\"y\"])))\n",
        "print(\"Examples in test set: {}\".format(len(data[\"y_test\"])))\n",
        "print(\"Length of each example: {}\".format(data[\"x\"].shape[-1]))"
      ]
    },
    {
      "cell_type": "code",
      "execution_count": 3,
      "metadata": {
        "id": "8bKADvLHbiV5"
      },
      "outputs": [
        {
          "name": "stdout",
          "output_type": "stream",
          "text": [
            "Train data: 4000 examples (columns), each of which has 40 dimensions (rows)\n",
            "Validation data: 1000 examples (columns), each of which has 40 dimensions (rows)\n"
          ]
        }
      ],
      "source": [
        "# Load in the data\n",
        "train_data_x = data[\"x\"].transpose()\n",
        "train_data_y = data[\"y\"]\n",
        "val_data_x = data[\"x_test\"].transpose()\n",
        "val_data_y = data[\"y_test\"]\n",
        "# Print out sizes\n",
        "print(\n",
        "    \"Train data: %d examples (columns), each of which has %d dimensions (rows)\"\n",
        "    % ((train_data_x.shape[1], train_data_x.shape[0]))\n",
        ")\n",
        "print(\n",
        "    \"Validation data: %d examples (columns), each of which has %d dimensions (rows)\"\n",
        "    % ((val_data_x.shape[1], val_data_x.shape[0]))\n",
        ")"
      ]
    },
    {
      "cell_type": "markdown",
      "metadata": {
        "id": "_sFvRDGrl4qe"
      },
      "source": [
        "Define the network"
      ]
    },
    {
      "cell_type": "code",
      "execution_count": 4,
      "metadata": {
        "id": "FslroPJJffrh"
      },
      "outputs": [],
      "source": [
        "# There are 40 input dimensions and 10 output dimensions for this data\n",
        "# The inputs correspond to the 40 offsets in the MNIST1D template.\n",
        "D_i = 40\n",
        "# The outputs correspond to the 10 digits\n",
        "D_o = 10\n",
        "\n",
        "\n",
        "# We will adapt this model to have residual connections around the linear layers\n",
        "# This is the same model we used in practical 8.1, but we can't use the sequential\n",
        "# class for residual networks (which aren't strictly sequential).  Hence, I've rewritten\n",
        "# it as a model that inherits from a base class\n",
        "\n",
        "\n",
        "class ResidualNetwork(torch.nn.Module):\n",
        "    def __init__(self, input_size, output_size, hidden_size=100):\n",
        "        super(ResidualNetwork, self).__init__()\n",
        "        self.linear1 = nn.Linear(input_size, hidden_size)\n",
        "        self.linear2 = nn.Linear(hidden_size, hidden_size)\n",
        "        self.linear3 = nn.Linear(hidden_size, hidden_size)\n",
        "        self.linear4 = nn.Linear(hidden_size, output_size)\n",
        "        print(\n",
        "            \"Initialized MLPBase model with {} parameters\".format(self.count_params())\n",
        "        )\n",
        "\n",
        "    def count_params(self):\n",
        "        return sum([p.view(-1).shape[0] for p in self.parameters()])\n",
        "\n",
        "    # TODO -- Add residual connections to this model\n",
        "    # The order of operations within each block should similar to figure 11.5b\n",
        "    # ie., linear1 first, ReLU+linear2 in first residual block, ReLU+linear3 in second residual block), linear4 at end\n",
        "    # Replace this function\n",
        "    def forward(self, x):\n",
        "        h1 = self.linear1(x)\n",
        "        h2 = self.linear2(h1).relu() + h1\n",
        "        h3 = self.linear3(h2).relu() + h2\n",
        "        return self.linear4(h3)\n"
      ]
    },
    {
      "cell_type": "code",
      "execution_count": 5,
      "metadata": {
        "id": "YgLaex1pfhqz"
      },
      "outputs": [],
      "source": [
        "# He initialization of weights\n",
        "def weights_init(layer_in):\n",
        "    if isinstance(layer_in, nn.Linear):\n",
        "        nn.init.kaiming_uniform_(layer_in.weight)\n",
        "        layer_in.bias.data.fill_(0.0)"
      ]
    },
    {
      "cell_type": "code",
      "execution_count": 6,
      "metadata": {
        "id": "NYw8I_3mmX5c"
      },
      "outputs": [
        {
          "name": "stdout",
          "output_type": "stream",
          "text": [
            "Initialized MLPBase model with 25310 parameters\n",
            "Epoch     0, train loss 1.658018, train error 62.60,  val loss 1.761962, percent error 67.90\n",
            "Epoch     1, train loss 1.190562, train error 44.08,  val loss 1.358759, percent error 50.30\n",
            "Epoch     2, train loss 1.003444, train error 36.85,  val loss 1.231810, percent error 46.40\n",
            "Epoch     3, train loss 0.855329, train error 31.93,  val loss 1.152943, percent error 43.20\n",
            "Epoch     4, train loss 0.797645, train error 29.60,  val loss 1.192481, percent error 44.60\n",
            "Epoch     5, train loss 0.712151, train error 26.53,  val loss 1.134768, percent error 42.20\n",
            "Epoch     6, train loss 0.638177, train error 23.43,  val loss 1.159133, percent error 41.60\n",
            "Epoch     7, train loss 0.625569, train error 22.68,  val loss 1.192974, percent error 41.50\n",
            "Epoch     8, train loss 0.593513, train error 20.68,  val loss 1.227925, percent error 41.80\n",
            "Epoch     9, train loss 0.583072, train error 22.15,  val loss 1.263508, percent error 39.00\n",
            "Epoch    10, train loss 0.480935, train error 17.68,  val loss 1.224377, percent error 39.60\n",
            "Epoch    11, train loss 0.477516, train error 17.12,  val loss 1.344032, percent error 39.00\n",
            "Epoch    12, train loss 0.424370, train error 15.22,  val loss 1.270318, percent error 37.30\n",
            "Epoch    13, train loss 0.391469, train error 14.47,  val loss 1.334645, percent error 40.40\n",
            "Epoch    14, train loss 0.403069, train error 15.25,  val loss 1.381910, percent error 39.80\n",
            "Epoch    15, train loss 0.356369, train error 12.70,  val loss 1.321006, percent error 36.30\n",
            "Epoch    16, train loss 0.303347, train error 10.85,  val loss 1.430984, percent error 37.00\n",
            "Epoch    17, train loss 0.298386, train error 10.88,  val loss 1.486905, percent error 37.30\n",
            "Epoch    18, train loss 0.253325, train error 9.15,  val loss 1.448977, percent error 35.80\n",
            "Epoch    19, train loss 0.298981, train error 10.40,  val loss 1.598493, percent error 37.10\n",
            "Epoch    20, train loss 0.082977, train error 1.95,  val loss 1.312956, percent error 34.10\n",
            "Epoch    21, train loss 0.042694, train error 0.45,  val loss 1.296939, percent error 31.60\n",
            "Epoch    22, train loss 0.025557, train error 0.10,  val loss 1.270863, percent error 32.40\n",
            "Epoch    23, train loss 0.018759, train error 0.03,  val loss 1.288590, percent error 32.20\n",
            "Epoch    24, train loss 0.015265, train error 0.00,  val loss 1.302060, percent error 31.50\n",
            "Epoch    25, train loss 0.013333, train error 0.00,  val loss 1.320104, percent error 32.40\n",
            "Epoch    26, train loss 0.011462, train error 0.00,  val loss 1.340478, percent error 32.30\n",
            "Epoch    27, train loss 0.010307, train error 0.00,  val loss 1.349984, percent error 32.40\n",
            "Epoch    28, train loss 0.009302, train error 0.00,  val loss 1.361147, percent error 32.30\n",
            "Epoch    29, train loss 0.008645, train error 0.00,  val loss 1.374620, percent error 32.70\n",
            "Epoch    30, train loss 0.008166, train error 0.00,  val loss 1.387248, percent error 32.50\n",
            "Epoch    31, train loss 0.007505, train error 0.00,  val loss 1.402018, percent error 32.70\n",
            "Epoch    32, train loss 0.006980, train error 0.00,  val loss 1.410640, percent error 32.60\n",
            "Epoch    33, train loss 0.006584, train error 0.00,  val loss 1.415626, percent error 32.80\n",
            "Epoch    34, train loss 0.006193, train error 0.00,  val loss 1.429823, percent error 33.10\n",
            "Epoch    35, train loss 0.005878, train error 0.00,  val loss 1.436413, percent error 32.80\n",
            "Epoch    36, train loss 0.005575, train error 0.00,  val loss 1.450302, percent error 32.70\n",
            "Epoch    37, train loss 0.005276, train error 0.00,  val loss 1.452096, percent error 32.90\n",
            "Epoch    38, train loss 0.005027, train error 0.00,  val loss 1.466230, percent error 33.10\n",
            "Epoch    39, train loss 0.004799, train error 0.00,  val loss 1.470478, percent error 32.90\n",
            "Epoch    40, train loss 0.004681, train error 0.00,  val loss 1.474573, percent error 33.00\n",
            "Epoch    41, train loss 0.004582, train error 0.00,  val loss 1.476846, percent error 32.70\n",
            "Epoch    42, train loss 0.004487, train error 0.00,  val loss 1.480672, percent error 32.90\n",
            "Epoch    43, train loss 0.004398, train error 0.00,  val loss 1.485072, percent error 32.90\n",
            "Epoch    44, train loss 0.004310, train error 0.00,  val loss 1.488974, percent error 33.00\n",
            "Epoch    45, train loss 0.004231, train error 0.00,  val loss 1.490965, percent error 32.90\n",
            "Epoch    46, train loss 0.004148, train error 0.00,  val loss 1.494678, percent error 32.90\n",
            "Epoch    47, train loss 0.004072, train error 0.00,  val loss 1.499212, percent error 32.90\n",
            "Epoch    48, train loss 0.003997, train error 0.00,  val loss 1.500665, percent error 32.90\n",
            "Epoch    49, train loss 0.003934, train error 0.00,  val loss 1.506840, percent error 32.90\n",
            "Epoch    50, train loss 0.003858, train error 0.00,  val loss 1.507216, percent error 33.00\n",
            "Epoch    51, train loss 0.003789, train error 0.00,  val loss 1.512321, percent error 33.20\n",
            "Epoch    52, train loss 0.003725, train error 0.00,  val loss 1.514941, percent error 33.20\n",
            "Epoch    53, train loss 0.003663, train error 0.00,  val loss 1.518439, percent error 33.20\n",
            "Epoch    54, train loss 0.003603, train error 0.00,  val loss 1.520854, percent error 32.90\n",
            "Epoch    55, train loss 0.003543, train error 0.00,  val loss 1.525560, percent error 33.20\n",
            "Epoch    56, train loss 0.003484, train error 0.00,  val loss 1.527329, percent error 33.40\n",
            "Epoch    57, train loss 0.003430, train error 0.00,  val loss 1.530010, percent error 33.20\n",
            "Epoch    58, train loss 0.003377, train error 0.00,  val loss 1.532331, percent error 33.10\n",
            "Epoch    59, train loss 0.003324, train error 0.00,  val loss 1.535313, percent error 33.30\n",
            "Epoch    60, train loss 0.003298, train error 0.00,  val loss 1.537173, percent error 33.30\n",
            "Epoch    61, train loss 0.003272, train error 0.00,  val loss 1.538543, percent error 33.30\n",
            "Epoch    62, train loss 0.003248, train error 0.00,  val loss 1.539783, percent error 33.30\n",
            "Epoch    63, train loss 0.003224, train error 0.00,  val loss 1.541176, percent error 33.30\n",
            "Epoch    64, train loss 0.003200, train error 0.00,  val loss 1.542756, percent error 33.30\n",
            "Epoch    65, train loss 0.003176, train error 0.00,  val loss 1.544220, percent error 33.30\n",
            "Epoch    66, train loss 0.003153, train error 0.00,  val loss 1.545472, percent error 33.30\n",
            "Epoch    67, train loss 0.003130, train error 0.00,  val loss 1.547020, percent error 33.20\n",
            "Epoch    68, train loss 0.003108, train error 0.00,  val loss 1.548053, percent error 33.30\n",
            "Epoch    69, train loss 0.003086, train error 0.00,  val loss 1.549319, percent error 33.20\n",
            "Epoch    70, train loss 0.003064, train error 0.00,  val loss 1.550889, percent error 33.20\n",
            "Epoch    71, train loss 0.003042, train error 0.00,  val loss 1.552863, percent error 33.20\n",
            "Epoch    72, train loss 0.003021, train error 0.00,  val loss 1.553208, percent error 33.20\n",
            "Epoch    73, train loss 0.003000, train error 0.00,  val loss 1.554583, percent error 33.20\n",
            "Epoch    74, train loss 0.002979, train error 0.00,  val loss 1.556160, percent error 33.30\n",
            "Epoch    75, train loss 0.002959, train error 0.00,  val loss 1.557438, percent error 33.20\n",
            "Epoch    76, train loss 0.002938, train error 0.00,  val loss 1.558727, percent error 33.20\n",
            "Epoch    77, train loss 0.002918, train error 0.00,  val loss 1.560532, percent error 33.20\n",
            "Epoch    78, train loss 0.002899, train error 0.00,  val loss 1.561831, percent error 33.10\n",
            "Epoch    79, train loss 0.002879, train error 0.00,  val loss 1.562703, percent error 33.30\n",
            "Epoch    80, train loss 0.002869, train error 0.00,  val loss 1.563257, percent error 33.30\n",
            "Epoch    81, train loss 0.002859, train error 0.00,  val loss 1.563936, percent error 33.30\n",
            "Epoch    82, train loss 0.002850, train error 0.00,  val loss 1.564819, percent error 33.30\n",
            "Epoch    83, train loss 0.002840, train error 0.00,  val loss 1.565147, percent error 33.30\n",
            "Epoch    84, train loss 0.002831, train error 0.00,  val loss 1.565826, percent error 33.20\n",
            "Epoch    85, train loss 0.002822, train error 0.00,  val loss 1.566539, percent error 33.30\n",
            "Epoch    86, train loss 0.002812, train error 0.00,  val loss 1.566878, percent error 33.30\n",
            "Epoch    87, train loss 0.002803, train error 0.00,  val loss 1.567619, percent error 33.30\n",
            "Epoch    88, train loss 0.002794, train error 0.00,  val loss 1.568381, percent error 33.30\n",
            "Epoch    89, train loss 0.002785, train error 0.00,  val loss 1.569076, percent error 33.20\n",
            "Epoch    90, train loss 0.002776, train error 0.00,  val loss 1.569524, percent error 33.30\n",
            "Epoch    91, train loss 0.002767, train error 0.00,  val loss 1.569900, percent error 33.30\n",
            "Epoch    92, train loss 0.002758, train error 0.00,  val loss 1.570856, percent error 33.20\n",
            "Epoch    93, train loss 0.002749, train error 0.00,  val loss 1.571585, percent error 33.20\n",
            "Epoch    94, train loss 0.002740, train error 0.00,  val loss 1.571818, percent error 33.20\n",
            "Epoch    95, train loss 0.002731, train error 0.00,  val loss 1.572514, percent error 33.20\n",
            "Epoch    96, train loss 0.002723, train error 0.00,  val loss 1.572956, percent error 33.20\n",
            "Epoch    97, train loss 0.002714, train error 0.00,  val loss 1.573569, percent error 33.10\n",
            "Epoch    98, train loss 0.002706, train error 0.00,  val loss 1.574422, percent error 33.20\n",
            "Epoch    99, train loss 0.002697, train error 0.00,  val loss 1.574911, percent error 33.10\n"
          ]
        }
      ],
      "source": [
        "# Define the model\n",
        "model = ResidualNetwork(40, 10)\n",
        "\n",
        "# choose cross entropy loss function (equation 5.24 in the loss notes)\n",
        "loss_function = nn.CrossEntropyLoss()\n",
        "# construct SGD optimizer and initialize learning rate and momentum\n",
        "optimizer = torch.optim.SGD(model.parameters(), lr=0.05, momentum=0.9)\n",
        "# object that decreases learning rate by half every 20 epochs\n",
        "scheduler = StepLR(optimizer, step_size=20, gamma=0.5)\n",
        "# convert data to torch tensors\n",
        "x_train = torch.tensor(train_data_x.transpose().astype(\"float32\"))\n",
        "y_train = torch.tensor(train_data_y.astype(\"long\"))\n",
        "x_val = torch.tensor(val_data_x.transpose().astype(\"float32\"))\n",
        "y_val = torch.tensor(val_data_y.astype(\"long\"))\n",
        "\n",
        "# load the data into a class that creates the batches\n",
        "data_loader = DataLoader(\n",
        "    TensorDataset(x_train, y_train),\n",
        "    batch_size=100,\n",
        "    shuffle=True,\n",
        "    worker_init_fn=np.random.seed(1),\n",
        ")\n",
        "\n",
        "# Initialize model weights\n",
        "model.apply(weights_init)\n",
        "\n",
        "# loop over the dataset n_epoch times\n",
        "n_epoch = 100\n",
        "# store the loss and the % correct at each epoch\n",
        "losses_train = np.zeros((n_epoch))\n",
        "errors_train = np.zeros((n_epoch))\n",
        "losses_val = np.zeros((n_epoch))\n",
        "errors_val = np.zeros((n_epoch))\n",
        "\n",
        "for epoch in range(n_epoch):\n",
        "    # loop over batches\n",
        "    for i, data in enumerate(data_loader):\n",
        "        # retrieve inputs and labels for this batch\n",
        "        x_batch, y_batch = data\n",
        "        # zero the parameter gradients\n",
        "        optimizer.zero_grad()\n",
        "        # forward pass -- calculate model output\n",
        "        pred = model(x_batch)\n",
        "        # compute the loss\n",
        "        loss = loss_function(pred, y_batch)\n",
        "        # backward pass\n",
        "        loss.backward()\n",
        "        # SGD update\n",
        "        optimizer.step()\n",
        "\n",
        "    # Run whole dataset to get statistics -- normally wouldn't do this\n",
        "    pred_train = model(x_train)\n",
        "    pred_val = model(x_val)\n",
        "    _, predicted_train_class = torch.max(pred_train.data, 1)\n",
        "    _, predicted_val_class = torch.max(pred_val.data, 1)\n",
        "    errors_train[epoch] = 100 - 100 * (\n",
        "        predicted_train_class == y_train\n",
        "    ).float().sum() / len(y_train)\n",
        "    errors_val[epoch] = 100 - 100 * (predicted_val_class == y_val).float().sum() / len(\n",
        "        y_val\n",
        "    )\n",
        "    losses_train[epoch] = loss_function(pred_train, y_train).item()\n",
        "    losses_val[epoch] = loss_function(pred_val, y_val).item()\n",
        "    print(\n",
        "        f\"Epoch {epoch:5d}, train loss {losses_train[epoch]:.6f}, train error {errors_train[epoch]:3.2f},  val loss {losses_val[epoch]:.6f}, percent error {errors_val[epoch]:3.2f}\"\n",
        "    )\n",
        "\n",
        "    # tell scheduler to consider updating learning rate\n",
        "    scheduler.step()"
      ]
    },
    {
      "cell_type": "code",
      "execution_count": 7,
      "metadata": {
        "id": "CcP_VyEmE2sv"
      },
      "outputs": [
        {
          "data": {
            "image/png": "[encoded data removed]",
            "text/plain": [
              "<Figure size 640x480 with 1 Axes>"
            ]
          },
          "metadata": {},
          "output_type": "display_data"
        }
      ],
      "source": [
        "# Plot the results\n",
        "fig, ax = plt.subplots()\n",
        "ax.plot(errors_train, \"r-\", label=\"train\")\n",
        "ax.plot(errors_val, \"b-\", label=\"test\")\n",
        "ax.set_ylim(0, 100)\n",
        "ax.set_xlim(0, n_epoch)\n",
        "ax.set_xlabel(\"Epoch\")\n",
        "ax.set_ylabel(\"Error\")\n",
        "ax.set_title(\"TrainError %3.2f, Val Error %3.2f\" % (errors_train[-1], errors_val[-1]))\n",
        "ax.legend()\n",
        "plt.show()"
      ]
    },
    {
      "cell_type": "markdown",
      "metadata": {
        "id": "wMmqhmxuAx0M"
      },
      "source": [
        "The primary motivation of residual networks is to allow training of much deeper networks.   \n",
        "\n",
        "TODO: Try running this network with and without the residual connections.  Does adding the residual connections change the performance?"
      ]
    }
  ],
  "metadata": {
    "colab": {
      "authorship_tag": "ABX9TyNIY8tswL9e48d5D53aSmHO",
      "include_colab_link": true,
      "provenance": []
    },
    "kernelspec": {
      "display_name": "venv",
      "language": "python",
      "name": "python3"
    },
    "language_info": {
      "codemirror_mode": {
        "name": "ipython",
        "version": 3
      },
      "file_extension": ".py",
      "mimetype": "text/x-python",
      "name": "python",
      "nbconvert_exporter": "python",
      "pygments_lexer": "ipython3",
      "version": "3.12.8"
    }
  },
  "nbformat": 4,
  "nbformat_minor": 0
}
