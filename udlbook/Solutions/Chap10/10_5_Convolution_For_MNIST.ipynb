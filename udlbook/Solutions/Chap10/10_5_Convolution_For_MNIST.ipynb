{
  "cells": [
    {
      "cell_type": "markdown",
      "metadata": {
        "colab_type": "text",
        "id": "view-in-github"
      },
      "source": [
        "<a href=\"https://colab.research.google.com/github/udlbook/udlbook/blob/main/Notebooks/Chap10/10_5_Convolution_For_MNIST.ipynb\" target=\"_parent\"><img src=\"https://colab.research.google.com/assets/colab-badge.svg\" alt=\"Open In Colab\"/></a>"
      ]
    },
    {
      "cell_type": "markdown",
      "metadata": {
        "id": "t9vk9Elugvmi"
      },
      "source": [
        "# **Notebook 10.5: Convolution for MNIST**\n",
        "\n",
        "This notebook builds a proper network for 2D convolution.  It works with the MNIST dataset (figure 15.15a), which was the original classic dataset for classifying images.  The network will take a 28x28 grayscale image and classify it into one of 10 classes representing a digit.\n",
        "\n",
        "The code is adapted from https://nextjournal.com/gkoehler/pytorch-mnist\n",
        "\n",
        "Work through the cells below, running each cell in turn. In various places you will see the words \"TO DO\". Follow the instructions at these places and make predictions about what is going to happen or write code to complete the functions.\n",
        "\n",
        "Contact me at udlbookmail@gmail.com if you find any mistakes or have any suggestions.\n"
      ]
    },
    {
      "cell_type": "code",
      "execution_count": 1,
      "metadata": {
        "id": "YrXWAH7sUWvU"
      },
      "outputs": [],
      "source": [
        "import torch\n",
        "import torchvision\n",
        "import torch.nn as nn\n",
        "import torch.nn.functional as F\n",
        "import torch.optim as optim\n",
        "import matplotlib.pyplot as plt\n",
        "import random"
      ]
    },
    {
      "cell_type": "code",
      "execution_count": 2,
      "metadata": {
        "id": "wScBGXXFVadm"
      },
      "outputs": [
        {
          "name": "stdout",
          "output_type": "stream",
          "text": [
            "Downloading http://yann.lecun.com/exdb/mnist/train-images-idx3-ubyte.gz\n",
            "Failed to download (trying next):\n",
            "HTTP Error 403: Forbidden\n",
            "\n",
            "Downloading https://ossci-datasets.s3.amazonaws.com/mnist/train-images-idx3-ubyte.gz\n",
            "Downloading https://ossci-datasets.s3.amazonaws.com/mnist/train-images-idx3-ubyte.gz to ./files/MNIST/raw/train-images-idx3-ubyte.gz\n"
          ]
        },
        {
          "name": "stderr",
          "output_type": "stream",
          "text": [
            "100.0%\n"
          ]
        },
        {
          "name": "stdout",
          "output_type": "stream",
          "text": [
            "Extracting ./files/MNIST/raw/train-images-idx3-ubyte.gz to ./files/MNIST/raw\n",
            "\n",
            "Downloading http://yann.lecun.com/exdb/mnist/train-labels-idx1-ubyte.gz\n",
            "Failed to download (trying next):\n",
            "HTTP Error 403: Forbidden\n",
            "\n",
            "Downloading https://ossci-datasets.s3.amazonaws.com/mnist/train-labels-idx1-ubyte.gz\n",
            "Downloading https://ossci-datasets.s3.amazonaws.com/mnist/train-labels-idx1-ubyte.gz to ./files/MNIST/raw/train-labels-idx1-ubyte.gz\n"
          ]
        },
        {
          "name": "stderr",
          "output_type": "stream",
          "text": [
            "100.0%\n"
          ]
        },
        {
          "name": "stdout",
          "output_type": "stream",
          "text": [
            "Extracting ./files/MNIST/raw/train-labels-idx1-ubyte.gz to ./files/MNIST/raw\n",
            "\n",
            "Downloading http://yann.lecun.com/exdb/mnist/t10k-images-idx3-ubyte.gz\n",
            "Failed to download (trying next):\n",
            "HTTP Error 403: Forbidden\n",
            "\n",
            "Downloading https://ossci-datasets.s3.amazonaws.com/mnist/t10k-images-idx3-ubyte.gz\n",
            "Downloading https://ossci-datasets.s3.amazonaws.com/mnist/t10k-images-idx3-ubyte.gz to ./files/MNIST/raw/t10k-images-idx3-ubyte.gz\n"
          ]
        },
        {
          "name": "stderr",
          "output_type": "stream",
          "text": [
            "100.0%\n"
          ]
        },
        {
          "name": "stdout",
          "output_type": "stream",
          "text": [
            "Extracting ./files/MNIST/raw/t10k-images-idx3-ubyte.gz to ./files/MNIST/raw\n",
            "\n",
            "Downloading http://yann.lecun.com/exdb/mnist/t10k-labels-idx1-ubyte.gz\n",
            "Failed to download (trying next):\n",
            "HTTP Error 403: Forbidden\n",
            "\n",
            "Downloading https://ossci-datasets.s3.amazonaws.com/mnist/t10k-labels-idx1-ubyte.gz\n",
            "Downloading https://ossci-datasets.s3.amazonaws.com/mnist/t10k-labels-idx1-ubyte.gz to ./files/MNIST/raw/t10k-labels-idx1-ubyte.gz\n"
          ]
        },
        {
          "name": "stderr",
          "output_type": "stream",
          "text": [
            "100.0%"
          ]
        },
        {
          "name": "stdout",
          "output_type": "stream",
          "text": [
            "Extracting ./files/MNIST/raw/t10k-labels-idx1-ubyte.gz to ./files/MNIST/raw\n",
            "\n"
          ]
        },
        {
          "name": "stderr",
          "output_type": "stream",
          "text": [
            "\n"
          ]
        }
      ],
      "source": [
        "# Run this once to load the train and test data straight into a dataloader class\n",
        "# that will provide the batches\n",
        "\n",
        "# (It may complain that some files are missing because the files seem to have been\n",
        "# reorganized on the underlying website, but it still seems to work). If everything is working\n",
        "# properly, then the whole notebook should run to the end without further problems\n",
        "# even before you make changes.\n",
        "batch_size_train = 64\n",
        "batch_size_test = 1000\n",
        "\n",
        "# TODO Change this directory to point towards an existing directory\n",
        "myDir = './files/'\n",
        "\n",
        "train_loader = torch.utils.data.DataLoader(\n",
        "  torchvision.datasets.MNIST(myDir, train=True, download=True,\n",
        "                             transform=torchvision.transforms.Compose([\n",
        "                               torchvision.transforms.ToTensor(),\n",
        "                               torchvision.transforms.Normalize(\n",
        "                                 (0.1307,), (0.3081,))\n",
        "                             ])),\n",
        "  batch_size=batch_size_train, shuffle=True)\n",
        "\n",
        "test_loader = torch.utils.data.DataLoader(\n",
        "  torchvision.datasets.MNIST(myDir, train=False, download=True,\n",
        "                             transform=torchvision.transforms.Compose([\n",
        "                               torchvision.transforms.ToTensor(),\n",
        "                               torchvision.transforms.Normalize(\n",
        "                                 (0.1307,), (0.3081,))\n",
        "                             ])),\n",
        "  batch_size=batch_size_test, shuffle=True)"
      ]
    },
    {
      "cell_type": "code",
      "execution_count": 3,
      "metadata": {
        "id": "8bKADvLHbiV5"
      },
      "outputs": [
        {
          "data": {
            "image/png": "[encoded data removed]",
            "text/plain": [
              "<Figure size 640x480 with 6 Axes>"
            ]
          },
          "metadata": {},
          "output_type": "display_data"
        }
      ],
      "source": [
        "# Let's draw some of the training data\n",
        "examples = enumerate(test_loader)\n",
        "batch_idx, (example_data, example_targets) = next(examples)\n",
        "\n",
        "fig = plt.figure()\n",
        "for i in range(6):\n",
        "  plt.subplot(2,3,i+1)\n",
        "  plt.tight_layout()\n",
        "  plt.imshow(example_data[i][0], cmap='gray', interpolation='none')\n",
        "  plt.title(\"Ground Truth: {}\".format(example_targets[i]))\n",
        "  plt.xticks([])\n",
        "  plt.yticks([])\n",
        "plt.show()"
      ]
    },
    {
      "cell_type": "markdown",
      "metadata": {
        "id": "_sFvRDGrl4qe"
      },
      "source": [
        "Define the network.  This is a more typical way to define a network than the sequential structure.  We define a class for the network, and define the parameters in the constructor.  Then we use a function called forward to actually run the network.  It's easy to see how you might use residual connections in this format."
      ]
    },
    {
      "cell_type": "code",
      "execution_count": 11,
      "metadata": {
        "id": "EQkvw2KOPVl7"
      },
      "outputs": [],
      "source": [
        "from os import X_OK\n",
        "# TODO Change this class to implement\n",
        "# 1. A valid convolution with kernel size 5, 1 input channel and 10 output channels\n",
        "# 2. A max pooling operation over a 2x2 area\n",
        "# 3. A Relu\n",
        "# 4. A valid convolution with kernel size 5, 10 input channels and 20 output channels\n",
        "# 5. A 2D Dropout layer\n",
        "# 6. A max pooling operation over a 2x2 area\n",
        "# 7. A relu\n",
        "# 8. A flattening operation\n",
        "# 9. A fully connected layer mapping from (whatever dimensions we are at-- find out using .shape) to 50\n",
        "# 10. A ReLU\n",
        "# 11. A fully connected layer mapping from 50 to 10 dimensions\n",
        "# 12. A softmax function.\n",
        "\n",
        "# Replace this class which implements a minimal network (which still does okay)\n",
        "class Net(nn.Module):\n",
        "    def __init__(self):\n",
        "        super(Net, self).__init__()\n",
        "        # 1. A valid convolution with kernel size 5, 1 input channel and 10 output channels\n",
        "        self.conv1 = nn.Conv2d(1, 10, kernel_size=5)\n",
        "        # 4. A valid convolution with kernel size 5, 10 input channels and 20 output channels\n",
        "        self.conv2 = nn.Conv2d(10, 20, kernel_size=5)\n",
        "        # 5. A 2D Dropout layer\n",
        "        self.conv2_drop = nn.Dropout2d()\n",
        "        # 9. A fully connected layer mapping from (whatever dimensions we are at-- find out using .shape) to 50\n",
        "        self.fc1 = nn.Linear(320, 50)\n",
        "        # 11. A fully connected layer mapping from 50 to 10 dimensions\n",
        "        self.fc2 = nn.Linear(50, 10)\n",
        "\n",
        "    def forward(self, x):\n",
        "        # 1. A valid convolution with kernel size 5, 1 input channel and 10 output channels\n",
        "        x = F.relu(F.max_pool2d(self.conv1(x), 2)) # 2. A max pooling operation over a 2x2 area, 3. A Relu\n",
        "        # 4. A valid convolution with kernel size 5, 10 input channels and 20 output channels\n",
        "        x = F.relu(F.max_pool2d(self.conv2_drop(self.conv2(x)), 2)) # 5. A 2D Dropout layer, 6. A max pooling operation over a 2x2 area, 7. A relu\n",
        "        # 8. A flattening operation\n",
        "        x = x.view(-1, 320)\n",
        "        # 9. A fully connected layer mapping from (whatever dimensions we are at-- find out using .shape) to 50\n",
        "        x = F.relu(self.fc1(x)) # 10. A ReLU\n",
        "        # 11. A fully connected layer mapping from 50 to 10 dimensions\n",
        "        x = self.fc2(x)\n",
        "        # 12. A softmax function.\n",
        "        return F.log_softmax(x, dim=1)\n"
      ]
    },
    {
      "cell_type": "code",
      "execution_count": 12,
      "metadata": {
        "id": "qWZtkCZcU_dg"
      },
      "outputs": [],
      "source": [
        "# He initialization of weights\n",
        "def weights_init(layer_in):\n",
        "  if isinstance(layer_in, nn.Linear):\n",
        "    nn.init.kaiming_uniform_(layer_in.weight)\n",
        "    layer_in.bias.data.fill_(0.0)"
      ]
    },
    {
      "cell_type": "code",
      "execution_count": 13,
      "metadata": {
        "id": "FslroPJJffrh"
      },
      "outputs": [],
      "source": [
        "# Create network\n",
        "model = Net()\n",
        "# Initialize model weights\n",
        "model.apply(weights_init)\n",
        "# Define optimizer\n",
        "optimizer = optim.SGD(model.parameters(), lr=0.01, momentum=0.5)"
      ]
    },
    {
      "cell_type": "code",
      "execution_count": 14,
      "metadata": {
        "id": "xKQd9PzkQ766"
      },
      "outputs": [],
      "source": [
        "# Main training routine\n",
        "def train(epoch):\n",
        "  model.train()\n",
        "  # Get each\n",
        "  for batch_idx, (data, target) in enumerate(train_loader):\n",
        "    optimizer.zero_grad()\n",
        "    output = model(data)\n",
        "    loss = F.nll_loss(output, target)\n",
        "    loss.backward()\n",
        "    optimizer.step()\n",
        "    # Store results\n",
        "    if batch_idx % 10 == 0:\n",
        "      print('Train Epoch: {} [{}/{}]\\tLoss: {:.6f}'.format(\n",
        "        epoch, batch_idx * len(data), len(train_loader.dataset), loss.item()))"
      ]
    },
    {
      "cell_type": "code",
      "execution_count": 15,
      "metadata": {
        "id": "Byn-f7qWRLxX"
      },
      "outputs": [],
      "source": [
        "# Run on test data\n",
        "def test():\n",
        "  model.eval()\n",
        "  test_loss = 0\n",
        "  correct = 0\n",
        "  with torch.no_grad():\n",
        "    for data, target in test_loader:\n",
        "      output = model(data)\n",
        "      test_loss += F.nll_loss(output, target, size_average=False).item()\n",
        "      pred = output.data.max(1, keepdim=True)[1]\n",
        "      correct += pred.eq(target.data.view_as(pred)).sum()\n",
        "  test_loss /= len(test_loader.dataset)\n",
        "  print('\\nTest set: Avg. loss: {:.4f}, Accuracy: {}/{} ({:.0f}%)\\n'.format(\n",
        "    test_loss, correct, len(test_loader.dataset),\n",
        "    100. * correct / len(test_loader.dataset)))"
      ]
    },
    {
      "cell_type": "code",
      "execution_count": 16,
      "metadata": {
        "id": "YgLaex1pfhqz"
      },
      "outputs": [
        {
          "name": "stdout",
          "output_type": "stream",
          "text": [
            "\n",
            "Test set: Avg. loss: 2.3514, Accuracy: 1090/10000 (11%)\n",
            "\n",
            "Train Epoch: 1 [0/60000]\tLoss: 2.387421\n",
            "Train Epoch: 1 [640/60000]\tLoss: 2.270743\n",
            "Train Epoch: 1 [1280/60000]\tLoss: 2.211267\n",
            "Train Epoch: 1 [1920/60000]\tLoss: 2.130203\n",
            "Train Epoch: 1 [2560/60000]\tLoss: 2.151164\n",
            "Train Epoch: 1 [3200/60000]\tLoss: 2.030305\n",
            "Train Epoch: 1 [3840/60000]\tLoss: 1.778594\n",
            "Train Epoch: 1 [4480/60000]\tLoss: 1.681510\n",
            "Train Epoch: 1 [5120/60000]\tLoss: 1.546391\n",
            "Train Epoch: 1 [5760/60000]\tLoss: 1.392525\n",
            "Train Epoch: 1 [6400/60000]\tLoss: 0.976995\n",
            "Train Epoch: 1 [7040/60000]\tLoss: 1.134829\n",
            "Train Epoch: 1 [7680/60000]\tLoss: 0.789236\n",
            "Train Epoch: 1 [8320/60000]\tLoss: 1.001288\n",
            "Train Epoch: 1 [8960/60000]\tLoss: 0.822975\n",
            "Train Epoch: 1 [9600/60000]\tLoss: 0.718525\n",
            "Train Epoch: 1 [10240/60000]\tLoss: 0.475639\n",
            "Train Epoch: 1 [10880/60000]\tLoss: 0.597181\n",
            "Train Epoch: 1 [11520/60000]\tLoss: 0.877038\n",
            "Train Epoch: 1 [12160/60000]\tLoss: 0.547260\n",
            "Train Epoch: 1 [12800/60000]\tLoss: 0.618178\n",
            "Train Epoch: 1 [13440/60000]\tLoss: 0.524452\n",
            "Train Epoch: 1 [14080/60000]\tLoss: 0.556502\n",
            "Train Epoch: 1 [14720/60000]\tLoss: 0.490406\n",
            "Train Epoch: 1 [15360/60000]\tLoss: 0.535342\n",
            "Train Epoch: 1 [16000/60000]\tLoss: 0.985999\n",
            "Train Epoch: 1 [16640/60000]\tLoss: 0.538575\n",
            "Train Epoch: 1 [17280/60000]\tLoss: 0.524089\n",
            "Train Epoch: 1 [17920/60000]\tLoss: 0.333405\n",
            "Train Epoch: 1 [18560/60000]\tLoss: 0.369891\n",
            "Train Epoch: 1 [19200/60000]\tLoss: 0.516770\n",
            "Train Epoch: 1 [19840/60000]\tLoss: 0.408527\n",
            "Train Epoch: 1 [20480/60000]\tLoss: 0.601094\n",
            "Train Epoch: 1 [21120/60000]\tLoss: 0.409512\n",
            "Train Epoch: 1 [21760/60000]\tLoss: 0.486235\n",
            "Train Epoch: 1 [22400/60000]\tLoss: 0.713329\n",
            "Train Epoch: 1 [23040/60000]\tLoss: 0.330495\n",
            "Train Epoch: 1 [23680/60000]\tLoss: 0.521698\n",
            "Train Epoch: 1 [24320/60000]\tLoss: 0.494291\n",
            "Train Epoch: 1 [24960/60000]\tLoss: 0.317367\n",
            "Train Epoch: 1 [25600/60000]\tLoss: 0.656378\n",
            "Train Epoch: 1 [26240/60000]\tLoss: 0.229148\n",
            "Train Epoch: 1 [26880/60000]\tLoss: 0.362291\n",
            "Train Epoch: 1 [27520/60000]\tLoss: 0.375873\n",
            "Train Epoch: 1 [28160/60000]\tLoss: 0.208639\n",
            "Train Epoch: 1 [28800/60000]\tLoss: 0.252331\n",
            "Train Epoch: 1 [29440/60000]\tLoss: 0.406018\n",
            "Train Epoch: 1 [30080/60000]\tLoss: 0.324456\n",
            "Train Epoch: 1 [30720/60000]\tLoss: 0.303866\n",
            "Train Epoch: 1 [31360/60000]\tLoss: 0.258512\n",
            "Train Epoch: 1 [32000/60000]\tLoss: 0.228942\n",
            "Train Epoch: 1 [32640/60000]\tLoss: 0.391449\n",
            "Train Epoch: 1 [33280/60000]\tLoss: 0.301881\n",
            "Train Epoch: 1 [33920/60000]\tLoss: 0.268919\n",
            "Train Epoch: 1 [34560/60000]\tLoss: 0.355818\n",
            "Train Epoch: 1 [35200/60000]\tLoss: 0.259149\n",
            "Train Epoch: 1 [35840/60000]\tLoss: 0.257907\n",
            "Train Epoch: 1 [36480/60000]\tLoss: 0.240205\n",
            "Train Epoch: 1 [37120/60000]\tLoss: 0.124773\n",
            "Train Epoch: 1 [37760/60000]\tLoss: 0.389908\n",
            "Train Epoch: 1 [38400/60000]\tLoss: 0.459787\n",
            "Train Epoch: 1 [39040/60000]\tLoss: 0.256876\n",
            "Train Epoch: 1 [39680/60000]\tLoss: 0.167137\n",
            "Train Epoch: 1 [40320/60000]\tLoss: 0.309843\n",
            "Train Epoch: 1 [40960/60000]\tLoss: 0.167635\n",
            "Train Epoch: 1 [41600/60000]\tLoss: 0.243147\n",
            "Train Epoch: 1 [42240/60000]\tLoss: 0.311197\n",
            "Train Epoch: 1 [42880/60000]\tLoss: 0.331239\n",
            "Train Epoch: 1 [43520/60000]\tLoss: 0.066337\n",
            "Train Epoch: 1 [44160/60000]\tLoss: 0.297226\n",
            "Train Epoch: 1 [44800/60000]\tLoss: 0.176889\n",
            "Train Epoch: 1 [45440/60000]\tLoss: 0.179677\n",
            "Train Epoch: 1 [46080/60000]\tLoss: 0.195383\n",
            "Train Epoch: 1 [46720/60000]\tLoss: 0.271928\n",
            "Train Epoch: 1 [47360/60000]\tLoss: 0.233668\n",
            "Train Epoch: 1 [48000/60000]\tLoss: 0.279778\n",
            "Train Epoch: 1 [48640/60000]\tLoss: 0.199948\n",
            "Train Epoch: 1 [49280/60000]\tLoss: 0.261690\n",
            "Train Epoch: 1 [49920/60000]\tLoss: 0.232000\n",
            "Train Epoch: 1 [50560/60000]\tLoss: 0.385491\n",
            "Train Epoch: 1 [51200/60000]\tLoss: 0.355807\n",
            "Train Epoch: 1 [51840/60000]\tLoss: 0.639491\n",
            "Train Epoch: 1 [52480/60000]\tLoss: 0.143839\n",
            "Train Epoch: 1 [53120/60000]\tLoss: 0.206878\n",
            "Train Epoch: 1 [53760/60000]\tLoss: 0.038741\n",
            "Train Epoch: 1 [54400/60000]\tLoss: 0.159287\n",
            "Train Epoch: 1 [55040/60000]\tLoss: 0.119525\n",
            "Train Epoch: 1 [55680/60000]\tLoss: 0.257983\n",
            "Train Epoch: 1 [56320/60000]\tLoss: 0.175856\n",
            "Train Epoch: 1 [56960/60000]\tLoss: 0.209233\n",
            "Train Epoch: 1 [57600/60000]\tLoss: 0.278698\n",
            "Train Epoch: 1 [58240/60000]\tLoss: 0.187199\n",
            "Train Epoch: 1 [58880/60000]\tLoss: 0.220214\n",
            "Train Epoch: 1 [59520/60000]\tLoss: 0.194127\n",
            "\n",
            "Test set: Avg. loss: 0.1111, Accuracy: 9658/10000 (97%)\n",
            "\n",
            "Train Epoch: 2 [0/60000]\tLoss: 0.308556\n",
            "Train Epoch: 2 [640/60000]\tLoss: 0.193820\n",
            "Train Epoch: 2 [1280/60000]\tLoss: 0.286349\n",
            "Train Epoch: 2 [1920/60000]\tLoss: 0.122787\n",
            "Train Epoch: 2 [2560/60000]\tLoss: 0.210409\n",
            "Train Epoch: 2 [3200/60000]\tLoss: 0.217931\n",
            "Train Epoch: 2 [3840/60000]\tLoss: 0.241750\n",
            "Train Epoch: 2 [4480/60000]\tLoss: 0.134927\n",
            "Train Epoch: 2 [5120/60000]\tLoss: 0.289018\n",
            "Train Epoch: 2 [5760/60000]\tLoss: 0.261464\n",
            "Train Epoch: 2 [6400/60000]\tLoss: 0.272148\n",
            "Train Epoch: 2 [7040/60000]\tLoss: 0.176587\n",
            "Train Epoch: 2 [7680/60000]\tLoss: 0.238947\n",
            "Train Epoch: 2 [8320/60000]\tLoss: 0.201151\n",
            "Train Epoch: 2 [8960/60000]\tLoss: 0.185619\n",
            "Train Epoch: 2 [9600/60000]\tLoss: 0.247055\n",
            "Train Epoch: 2 [10240/60000]\tLoss: 0.080642\n",
            "Train Epoch: 2 [10880/60000]\tLoss: 0.136549\n",
            "Train Epoch: 2 [11520/60000]\tLoss: 0.129619\n",
            "Train Epoch: 2 [12160/60000]\tLoss: 0.342737\n",
            "Train Epoch: 2 [12800/60000]\tLoss: 0.241700\n",
            "Train Epoch: 2 [13440/60000]\tLoss: 0.298226\n",
            "Train Epoch: 2 [14080/60000]\tLoss: 0.190148\n",
            "Train Epoch: 2 [14720/60000]\tLoss: 0.145249\n",
            "Train Epoch: 2 [15360/60000]\tLoss: 0.112667\n",
            "Train Epoch: 2 [16000/60000]\tLoss: 0.180271\n",
            "Train Epoch: 2 [16640/60000]\tLoss: 0.085748\n",
            "Train Epoch: 2 [17280/60000]\tLoss: 0.243207\n",
            "Train Epoch: 2 [17920/60000]\tLoss: 0.233530\n",
            "Train Epoch: 2 [18560/60000]\tLoss: 0.209910\n",
            "Train Epoch: 2 [19200/60000]\tLoss: 0.226921\n",
            "Train Epoch: 2 [19840/60000]\tLoss: 0.284230\n",
            "Train Epoch: 2 [20480/60000]\tLoss: 0.124829\n",
            "Train Epoch: 2 [21120/60000]\tLoss: 0.309204\n",
            "Train Epoch: 2 [21760/60000]\tLoss: 0.106062\n",
            "Train Epoch: 2 [22400/60000]\tLoss: 0.363109\n",
            "Train Epoch: 2 [23040/60000]\tLoss: 0.321294\n",
            "Train Epoch: 2 [23680/60000]\tLoss: 0.196545\n",
            "Train Epoch: 2 [24320/60000]\tLoss: 0.370667\n",
            "Train Epoch: 2 [24960/60000]\tLoss: 0.154479\n",
            "Train Epoch: 2 [25600/60000]\tLoss: 0.171523\n",
            "Train Epoch: 2 [26240/60000]\tLoss: 0.033615\n",
            "Train Epoch: 2 [26880/60000]\tLoss: 0.155050\n",
            "Train Epoch: 2 [27520/60000]\tLoss: 0.194614\n",
            "Train Epoch: 2 [28160/60000]\tLoss: 0.225117\n",
            "Train Epoch: 2 [28800/60000]\tLoss: 0.559772\n",
            "Train Epoch: 2 [29440/60000]\tLoss: 0.224916\n",
            "Train Epoch: 2 [30080/60000]\tLoss: 0.328984\n",
            "Train Epoch: 2 [30720/60000]\tLoss: 0.113309\n",
            "Train Epoch: 2 [31360/60000]\tLoss: 0.171673\n",
            "Train Epoch: 2 [32000/60000]\tLoss: 0.122780\n",
            "Train Epoch: 2 [32640/60000]\tLoss: 0.173230\n",
            "Train Epoch: 2 [33280/60000]\tLoss: 0.124807\n",
            "Train Epoch: 2 [33920/60000]\tLoss: 0.152253\n",
            "Train Epoch: 2 [34560/60000]\tLoss: 0.191754\n",
            "Train Epoch: 2 [35200/60000]\tLoss: 0.128368\n",
            "Train Epoch: 2 [35840/60000]\tLoss: 0.263678\n",
            "Train Epoch: 2 [36480/60000]\tLoss: 0.086819\n",
            "Train Epoch: 2 [37120/60000]\tLoss: 0.267151\n",
            "Train Epoch: 2 [37760/60000]\tLoss: 0.215688\n",
            "Train Epoch: 2 [38400/60000]\tLoss: 0.056172\n",
            "Train Epoch: 2 [39040/60000]\tLoss: 0.311350\n",
            "Train Epoch: 2 [39680/60000]\tLoss: 0.242907\n",
            "Train Epoch: 2 [40320/60000]\tLoss: 0.118948\n",
            "Train Epoch: 2 [40960/60000]\tLoss: 0.199121\n",
            "Train Epoch: 2 [41600/60000]\tLoss: 0.300891\n",
            "Train Epoch: 2 [42240/60000]\tLoss: 0.469901\n",
            "Train Epoch: 2 [42880/60000]\tLoss: 0.111214\n",
            "Train Epoch: 2 [43520/60000]\tLoss: 0.196245\n",
            "Train Epoch: 2 [44160/60000]\tLoss: 0.057819\n",
            "Train Epoch: 2 [44800/60000]\tLoss: 0.254373\n",
            "Train Epoch: 2 [45440/60000]\tLoss: 0.235279\n",
            "Train Epoch: 2 [46080/60000]\tLoss: 0.094946\n",
            "Train Epoch: 2 [46720/60000]\tLoss: 0.225483\n",
            "Train Epoch: 2 [47360/60000]\tLoss: 0.148229\n",
            "Train Epoch: 2 [48000/60000]\tLoss: 0.148227\n",
            "Train Epoch: 2 [48640/60000]\tLoss: 0.085284\n",
            "Train Epoch: 2 [49280/60000]\tLoss: 0.135235\n",
            "Train Epoch: 2 [49920/60000]\tLoss: 0.211896\n",
            "Train Epoch: 2 [50560/60000]\tLoss: 0.080115\n",
            "Train Epoch: 2 [51200/60000]\tLoss: 0.076258\n",
            "Train Epoch: 2 [51840/60000]\tLoss: 0.146348\n",
            "Train Epoch: 2 [52480/60000]\tLoss: 0.278211\n",
            "Train Epoch: 2 [53120/60000]\tLoss: 0.170142\n",
            "Train Epoch: 2 [53760/60000]\tLoss: 0.239358\n",
            "Train Epoch: 2 [54400/60000]\tLoss: 0.181678\n",
            "Train Epoch: 2 [55040/60000]\tLoss: 0.280478\n",
            "Train Epoch: 2 [55680/60000]\tLoss: 0.192654\n",
            "Train Epoch: 2 [56320/60000]\tLoss: 0.143577\n",
            "Train Epoch: 2 [56960/60000]\tLoss: 0.174524\n",
            "Train Epoch: 2 [57600/60000]\tLoss: 0.126086\n",
            "Train Epoch: 2 [58240/60000]\tLoss: 0.282366\n",
            "Train Epoch: 2 [58880/60000]\tLoss: 0.225982\n",
            "Train Epoch: 2 [59520/60000]\tLoss: 0.190014\n",
            "\n",
            "Test set: Avg. loss: 0.0755, Accuracy: 9753/10000 (98%)\n",
            "\n",
            "Train Epoch: 3 [0/60000]\tLoss: 0.248153\n",
            "Train Epoch: 3 [640/60000]\tLoss: 0.215364\n",
            "Train Epoch: 3 [1280/60000]\tLoss: 0.311613\n",
            "Train Epoch: 3 [1920/60000]\tLoss: 0.077713\n",
            "Train Epoch: 3 [2560/60000]\tLoss: 0.206799\n",
            "Train Epoch: 3 [3200/60000]\tLoss: 0.185962\n",
            "Train Epoch: 3 [3840/60000]\tLoss: 0.150838\n",
            "Train Epoch: 3 [4480/60000]\tLoss: 0.338041\n",
            "Train Epoch: 3 [5120/60000]\tLoss: 0.050912\n",
            "Train Epoch: 3 [5760/60000]\tLoss: 0.286069\n",
            "Train Epoch: 3 [6400/60000]\tLoss: 0.175017\n",
            "Train Epoch: 3 [7040/60000]\tLoss: 0.163696\n",
            "Train Epoch: 3 [7680/60000]\tLoss: 0.140253\n",
            "Train Epoch: 3 [8320/60000]\tLoss: 0.026998\n",
            "Train Epoch: 3 [8960/60000]\tLoss: 0.021109\n",
            "Train Epoch: 3 [9600/60000]\tLoss: 0.135364\n",
            "Train Epoch: 3 [10240/60000]\tLoss: 0.100641\n",
            "Train Epoch: 3 [10880/60000]\tLoss: 0.065913\n",
            "Train Epoch: 3 [11520/60000]\tLoss: 0.121234\n",
            "Train Epoch: 3 [12160/60000]\tLoss: 0.330086\n",
            "Train Epoch: 3 [12800/60000]\tLoss: 0.235791\n",
            "Train Epoch: 3 [13440/60000]\tLoss: 0.215588\n",
            "Train Epoch: 3 [14080/60000]\tLoss: 0.062063\n",
            "Train Epoch: 3 [14720/60000]\tLoss: 0.131959\n",
            "Train Epoch: 3 [15360/60000]\tLoss: 0.078862\n",
            "Train Epoch: 3 [16000/60000]\tLoss: 0.319622\n",
            "Train Epoch: 3 [16640/60000]\tLoss: 0.150531\n",
            "Train Epoch: 3 [17280/60000]\tLoss: 0.142114\n",
            "Train Epoch: 3 [17920/60000]\tLoss: 0.304048\n",
            "Train Epoch: 3 [18560/60000]\tLoss: 0.130326\n",
            "Train Epoch: 3 [19200/60000]\tLoss: 0.115061\n",
            "Train Epoch: 3 [19840/60000]\tLoss: 0.133799\n",
            "Train Epoch: 3 [20480/60000]\tLoss: 0.091212\n",
            "Train Epoch: 3 [21120/60000]\tLoss: 0.247367\n",
            "Train Epoch: 3 [21760/60000]\tLoss: 0.250225\n",
            "Train Epoch: 3 [22400/60000]\tLoss: 0.117730\n",
            "Train Epoch: 3 [23040/60000]\tLoss: 0.034735\n",
            "Train Epoch: 3 [23680/60000]\tLoss: 0.221256\n",
            "Train Epoch: 3 [24320/60000]\tLoss: 0.077744\n",
            "Train Epoch: 3 [24960/60000]\tLoss: 0.093382\n",
            "Train Epoch: 3 [25600/60000]\tLoss: 0.113112\n",
            "Train Epoch: 3 [26240/60000]\tLoss: 0.127061\n",
            "Train Epoch: 3 [26880/60000]\tLoss: 0.130121\n",
            "Train Epoch: 3 [27520/60000]\tLoss: 0.524649\n",
            "Train Epoch: 3 [28160/60000]\tLoss: 0.191688\n",
            "Train Epoch: 3 [28800/60000]\tLoss: 0.222147\n",
            "Train Epoch: 3 [29440/60000]\tLoss: 0.065881\n",
            "Train Epoch: 3 [30080/60000]\tLoss: 0.029465\n",
            "Train Epoch: 3 [30720/60000]\tLoss: 0.172037\n",
            "Train Epoch: 3 [31360/60000]\tLoss: 0.066942\n",
            "Train Epoch: 3 [32000/60000]\tLoss: 0.193941\n",
            "Train Epoch: 3 [32640/60000]\tLoss: 0.112782\n",
            "Train Epoch: 3 [33280/60000]\tLoss: 0.156357\n",
            "Train Epoch: 3 [33920/60000]\tLoss: 0.114342\n",
            "Train Epoch: 3 [34560/60000]\tLoss: 0.087921\n",
            "Train Epoch: 3 [35200/60000]\tLoss: 0.280626\n",
            "Train Epoch: 3 [35840/60000]\tLoss: 0.046837\n",
            "Train Epoch: 3 [36480/60000]\tLoss: 0.034221\n",
            "Train Epoch: 3 [37120/60000]\tLoss: 0.028757\n",
            "Train Epoch: 3 [37760/60000]\tLoss: 0.107348\n",
            "Train Epoch: 3 [38400/60000]\tLoss: 0.158351\n",
            "Train Epoch: 3 [39040/60000]\tLoss: 0.189455\n",
            "Train Epoch: 3 [39680/60000]\tLoss: 0.101926\n",
            "Train Epoch: 3 [40320/60000]\tLoss: 0.015165\n",
            "Train Epoch: 3 [40960/60000]\tLoss: 0.087801\n",
            "Train Epoch: 3 [41600/60000]\tLoss: 0.199871\n",
            "Train Epoch: 3 [42240/60000]\tLoss: 0.059913\n",
            "Train Epoch: 3 [42880/60000]\tLoss: 0.206759\n",
            "Train Epoch: 3 [43520/60000]\tLoss: 0.209217\n",
            "Train Epoch: 3 [44160/60000]\tLoss: 0.092124\n",
            "Train Epoch: 3 [44800/60000]\tLoss: 0.233993\n",
            "Train Epoch: 3 [45440/60000]\tLoss: 0.094641\n",
            "Train Epoch: 3 [46080/60000]\tLoss: 0.044254\n",
            "Train Epoch: 3 [46720/60000]\tLoss: 0.046649\n",
            "Train Epoch: 3 [47360/60000]\tLoss: 0.091420\n",
            "Train Epoch: 3 [48000/60000]\tLoss: 0.111250\n",
            "Train Epoch: 3 [48640/60000]\tLoss: 0.107934\n",
            "Train Epoch: 3 [49280/60000]\tLoss: 0.092656\n",
            "Train Epoch: 3 [49920/60000]\tLoss: 0.029195\n",
            "Train Epoch: 3 [50560/60000]\tLoss: 0.181987\n",
            "Train Epoch: 3 [51200/60000]\tLoss: 0.198013\n",
            "Train Epoch: 3 [51840/60000]\tLoss: 0.135223\n",
            "Train Epoch: 3 [52480/60000]\tLoss: 0.174546\n",
            "Train Epoch: 3 [53120/60000]\tLoss: 0.106373\n",
            "Train Epoch: 3 [53760/60000]\tLoss: 0.098028\n",
            "Train Epoch: 3 [54400/60000]\tLoss: 0.125325\n",
            "Train Epoch: 3 [55040/60000]\tLoss: 0.131362\n",
            "Train Epoch: 3 [55680/60000]\tLoss: 0.324066\n",
            "Train Epoch: 3 [56320/60000]\tLoss: 0.150629\n",
            "Train Epoch: 3 [56960/60000]\tLoss: 0.203158\n",
            "Train Epoch: 3 [57600/60000]\tLoss: 0.158785\n",
            "Train Epoch: 3 [58240/60000]\tLoss: 0.155461\n",
            "Train Epoch: 3 [58880/60000]\tLoss: 0.128486\n",
            "Train Epoch: 3 [59520/60000]\tLoss: 0.031136\n",
            "\n",
            "Test set: Avg. loss: 0.0626, Accuracy: 9777/10000 (98%)\n",
            "\n"
          ]
        }
      ],
      "source": [
        "# Get initial performance\n",
        "test()\n",
        "# Train for three epochs\n",
        "n_epochs = 3\n",
        "for epoch in range(1, n_epochs + 1):\n",
        "  train(epoch)\n",
        "  test()"
      ]
    },
    {
      "cell_type": "code",
      "execution_count": 17,
      "metadata": {
        "id": "o7fRUAy9Se1B"
      },
      "outputs": [
        {
          "data": {
            "image/png": "[encoded data removed]",
            "text/plain": [
              "<Figure size 640x480 with 10 Axes>"
            ]
          },
          "metadata": {},
          "output_type": "display_data"
        }
      ],
      "source": [
        "# Run network on data we got before and show predictions\n",
        "output = model(example_data)\n",
        "\n",
        "fig = plt.figure()\n",
        "for i in range(10):\n",
        "  plt.subplot(5,5,i+1)\n",
        "  plt.tight_layout()\n",
        "  plt.imshow(example_data[i][0], cmap='gray', interpolation='none')\n",
        "  plt.title(\"Prediction: {}\".format(\n",
        "    output.data.max(1, keepdim=True)[1][i].item()))\n",
        "  plt.xticks([])\n",
        "  plt.yticks([])\n",
        "plt.show()"
      ]
    },
    {
      "cell_type": "code",
      "execution_count": null,
      "metadata": {},
      "outputs": [],
      "source": []
    }
  ],
  "metadata": {
    "colab": {
      "authorship_tag": "ABX9TyORZF8xy4X1yf4oRhRq8Rtm",
      "include_colab_link": true,
      "provenance": []
    },
    "kernelspec": {
      "display_name": "venv",
      "language": "python",
      "name": "python3"
    },
    "language_info": {
      "codemirror_mode": {
        "name": "ipython",
        "version": 3
      },
      "file_extension": ".py",
      "mimetype": "text/x-python",
      "name": "python",
      "nbconvert_exporter": "python",
      "pygments_lexer": "ipython3",
      "version": "3.12.8"
    }
  },
  "nbformat": 4,
  "nbformat_minor": 0
}
