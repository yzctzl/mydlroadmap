{
  "cells": [
    {
      "cell_type": "markdown",
      "metadata": {
        "colab_type": "text",
        "id": "view-in-github"
      },
      "source": [
        "<a href=\"https://colab.research.google.com/github/udlbook/udlbook/blob/main/Notebooks/Chap10/10_2_Convolution_for_MNIST_1D.ipynb\" target=\"_parent\"><img src=\"https://colab.research.google.com/assets/colab-badge.svg\" alt=\"Open In Colab\"/></a>"
      ]
    },
    {
      "cell_type": "markdown",
      "metadata": {
        "id": "t9vk9Elugvmi"
      },
      "source": [
        "# **Notebook 10.2: Convolution for MNIST-1D**\n",
        "\n",
        "This notebook investigates a 1D convolutional network for MNIST-1D as in figure 10.7 and 10.8a.\n",
        "\n",
        "Work through the cells below, running each cell in turn. In various places you will see the words \"TO DO\". Follow the instructions at these places and make predictions about what is going to happen or write code to complete the functions.\n",
        "\n",
        "Contact me at udlbookmail@gmail.com if you find any mistakes or have any suggestions.\n",
        "\n"
      ]
    },
    {
      "cell_type": "code",
      "execution_count": null,
      "metadata": {
        "id": "D5yLObtZCi9J"
      },
      "outputs": [],
      "source": [
        "# Run this if you're in a Colab to install MNIST 1D repository\n",
        "%pip install git+https://github.com/greydanus/mnist1d"
      ]
    },
    {
      "cell_type": "code",
      "execution_count": 1,
      "metadata": {
        "id": "YrXWAH7sUWvU"
      },
      "outputs": [],
      "source": [
        "import numpy as np\n",
        "import torch\n",
        "import torch.nn as nn\n",
        "from torch.utils.data import TensorDataset, DataLoader\n",
        "from torch.optim.lr_scheduler import StepLR\n",
        "import matplotlib.pyplot as plt\n",
        "import mnist1d"
      ]
    },
    {
      "cell_type": "code",
      "execution_count": 2,
      "metadata": {
        "id": "twI72ZCrCt5z"
      },
      "outputs": [
        {
          "name": "stdout",
          "output_type": "stream",
          "text": [
            "Did or could not load data from ./mnist1d_data.pkl. Rebuilding dataset...\n",
            "Examples in training set: 4000\n",
            "Examples in test set: 1000\n",
            "Length of each example: 40\n"
          ]
        }
      ],
      "source": [
        "args = mnist1d.data.get_dataset_args()\n",
        "data = mnist1d.data.get_dataset(\n",
        "    args, path=\"./mnist1d_data.pkl\", download=False, regenerate=False\n",
        ")\n",
        "\n",
        "# The training and test input and outputs are in\n",
        "# data['x'], data['y'], data['x_test'], and data['y_test']\n",
        "print(\"Examples in training set: {}\".format(len(data[\"y\"])))\n",
        "print(\"Examples in test set: {}\".format(len(data[\"y_test\"])))\n",
        "print(\"Length of each example: {}\".format(data[\"x\"].shape[-1]))"
      ]
    },
    {
      "cell_type": "code",
      "execution_count": 3,
      "metadata": {
        "id": "8bKADvLHbiV5"
      },
      "outputs": [
        {
          "name": "stdout",
          "output_type": "stream",
          "text": [
            "Train data: 4000 examples (columns), each of which has 40 dimensions (rows)\n",
            "Validation data: 1000 examples (columns), each of which has 40 dimensions (rows)\n"
          ]
        }
      ],
      "source": [
        "# Load in the data\n",
        "train_data_x = data[\"x\"].transpose()\n",
        "train_data_y = data[\"y\"]\n",
        "val_data_x = data[\"x_test\"].transpose()\n",
        "val_data_y = data[\"y_test\"]\n",
        "# Print out sizes\n",
        "print(\n",
        "    \"Train data: %d examples (columns), each of which has %d dimensions (rows)\"\n",
        "    % ((train_data_x.shape[1], train_data_x.shape[0]))\n",
        ")\n",
        "print(\n",
        "    \"Validation data: %d examples (columns), each of which has %d dimensions (rows)\"\n",
        "    % ((val_data_x.shape[1], val_data_x.shape[0]))\n",
        ")"
      ]
    },
    {
      "cell_type": "markdown",
      "metadata": {
        "id": "_sFvRDGrl4qe"
      },
      "source": [
        "Define the network"
      ]
    },
    {
      "cell_type": "code",
      "execution_count": 19,
      "metadata": {
        "id": "FslroPJJffrh"
      },
      "outputs": [],
      "source": [
        "# There are 40 input dimensions and 10 output dimensions for this data\n",
        "# The inputs correspond to the 40 offsets in the MNIST1D template.\n",
        "D_i = 40\n",
        "# The outputs correspond to the 10 digits\n",
        "D_o = 10\n",
        "\n",
        "\n",
        "# TODO Create a model with the following layers\n",
        "# 1. Convolutional layer, (input=length 40 and 1 channel, kernel size 3, stride 2, padding=\"valid\", 15 output channels )\n",
        "# 2. ReLU\n",
        "# 3. Convolutional layer, (input=length 19 and 15 channels, kernel size 3, stride 2, padding=\"valid\", 15 output channels )\n",
        "# 4. ReLU\n",
        "# 5. Convolutional layer, (input=length 9 and 15 channels, kernel size 3, stride 2, padding=\"valid\", 15 output channels)\n",
        "# 6. ReLU\n",
        "# 7. Flatten (converts 4x15) to length 60\n",
        "# 8. Linear layer (input size = 60, output size = 10)\n",
        "# References:\n",
        "# https://pytorch.org/docs/1.13/generated/torch.nn.Conv1d.html?highlight=conv1d#torch.nn.Conv1d\n",
        "# https://pytorch.org/docs/stable/generated/torch.nn.Flatten.html\n",
        "# https://pytorch.org/docs/1.13/generated/torch.nn.Linear.html?highlight=linear#torch.nn.Linear\n",
        "\n",
        "# NOTE THAT THE CONVOLUTIONAL LAYERS NEED TO TAKE THE NUMBER OF INPUT CHANNELS AS A PARAMETER\n",
        "# AND NOT THE INPUT SIZE.\n",
        "\n",
        "# Replace the following function:\n",
        "model = nn.Sequential(\n",
        "    nn.Conv1d(in_channels=1, out_channels=15, kernel_size=3, stride=2, padding=0),\n",
        "    nn.ReLU(),\n",
        "    nn.Conv1d(in_channels=15, out_channels=15, kernel_size=3, stride=2, padding=0),\n",
        "    nn.ReLU(),\n",
        "    nn.Conv1d(in_channels=15, out_channels=15, kernel_size=3, stride=2, padding=0),\n",
        "    nn.ReLU(),\n",
        "    nn.Flatten(),\n",
        "    nn.Linear(60, 10)\n",
        ")\n"
      ]
    },
    {
      "cell_type": "code",
      "execution_count": 20,
      "metadata": {
        "id": "YgLaex1pfhqz"
      },
      "outputs": [],
      "source": [
        "# He initialization of weights\n",
        "def weights_init(layer_in):\n",
        "    if isinstance(layer_in, nn.Linear):\n",
        "        nn.init.kaiming_uniform_(layer_in.weight)\n",
        "        layer_in.bias.data.fill_(0.0)"
      ]
    },
    {
      "cell_type": "code",
      "execution_count": 21,
      "metadata": {
        "id": "NYw8I_3mmX5c"
      },
      "outputs": [
        {
          "name": "stdout",
          "output_type": "stream",
          "text": [
            "Epoch     0, train loss 1.779147, train error 72.38,  val loss 1.810604, percent error 74.40\n",
            "Epoch     1, train loss 1.526878, train error 62.62,  val loss 1.545157, percent error 64.00\n",
            "Epoch     2, train loss 1.294659, train error 53.95,  val loss 1.320722, percent error 56.10\n",
            "Epoch     3, train loss 1.252529, train error 52.17,  val loss 1.278442, percent error 54.10\n",
            "Epoch     4, train loss 1.148947, train error 45.53,  val loss 1.182069, percent error 49.70\n",
            "Epoch     5, train loss 1.064673, train error 43.40,  val loss 1.110316, percent error 47.10\n",
            "Epoch     6, train loss 1.065940, train error 45.35,  val loss 1.131410, percent error 47.20\n",
            "Epoch     7, train loss 0.840844, train error 33.68,  val loss 0.914245, percent error 35.70\n",
            "Epoch     8, train loss 0.775435, train error 29.80,  val loss 0.845105, percent error 34.20\n",
            "Epoch     9, train loss 0.735545, train error 30.32,  val loss 0.806214, percent error 32.10\n",
            "Epoch    10, train loss 0.730233, train error 29.53,  val loss 0.806007, percent error 31.40\n",
            "Epoch    11, train loss 0.625381, train error 24.80,  val loss 0.711417, percent error 27.20\n",
            "Epoch    12, train loss 0.642647, train error 25.70,  val loss 0.772174, percent error 30.50\n",
            "Epoch    13, train loss 0.535677, train error 20.55,  val loss 0.649111, percent error 23.50\n",
            "Epoch    14, train loss 0.472782, train error 17.28,  val loss 0.577353, percent error 20.40\n",
            "Epoch    15, train loss 0.376432, train error 13.50,  val loss 0.469192, percent error 16.60\n",
            "Epoch    16, train loss 0.352509, train error 13.15,  val loss 0.461078, percent error 17.00\n",
            "Epoch    17, train loss 0.322925, train error 11.85,  val loss 0.393037, percent error 13.80\n",
            "Epoch    18, train loss 0.265550, train error 9.60,  val loss 0.369069, percent error 12.50\n",
            "Epoch    19, train loss 0.264931, train error 9.78,  val loss 0.361323, percent error 11.50\n",
            "Epoch    20, train loss 0.184733, train error 6.57,  val loss 0.335480, percent error 9.50\n",
            "Epoch    21, train loss 0.203177, train error 7.25,  val loss 0.352674, percent error 10.90\n",
            "Epoch    22, train loss 0.158947, train error 5.47,  val loss 0.308261, percent error 10.20\n",
            "Epoch    23, train loss 0.149538, train error 5.20,  val loss 0.288798, percent error 9.20\n",
            "Epoch    24, train loss 0.151549, train error 5.28,  val loss 0.300791, percent error 9.50\n",
            "Epoch    25, train loss 0.127972, train error 4.38,  val loss 0.321601, percent error 9.40\n",
            "Epoch    26, train loss 0.126212, train error 4.55,  val loss 0.305510, percent error 9.20\n",
            "Epoch    27, train loss 0.143334, train error 5.18,  val loss 0.343563, percent error 10.50\n",
            "Epoch    28, train loss 0.115610, train error 4.05,  val loss 0.300118, percent error 8.80\n",
            "Epoch    29, train loss 0.108851, train error 3.85,  val loss 0.295246, percent error 9.40\n",
            "Epoch    30, train loss 0.103548, train error 3.53,  val loss 0.287564, percent error 8.90\n",
            "Epoch    31, train loss 0.102286, train error 3.55,  val loss 0.330123, percent error 9.00\n",
            "Epoch    32, train loss 0.091888, train error 3.25,  val loss 0.325079, percent error 9.30\n",
            "Epoch    33, train loss 0.086480, train error 2.93,  val loss 0.319438, percent error 8.70\n",
            "Epoch    34, train loss 0.096764, train error 3.57,  val loss 0.367627, percent error 9.30\n",
            "Epoch    35, train loss 0.085910, train error 2.75,  val loss 0.328111, percent error 8.70\n",
            "Epoch    36, train loss 0.079264, train error 2.82,  val loss 0.314190, percent error 8.20\n",
            "Epoch    37, train loss 0.083942, train error 2.93,  val loss 0.357783, percent error 9.30\n",
            "Epoch    38, train loss 0.075516, train error 2.55,  val loss 0.352513, percent error 9.00\n",
            "Epoch    39, train loss 0.080556, train error 2.80,  val loss 0.356659, percent error 9.50\n",
            "Epoch    40, train loss 0.058409, train error 1.53,  val loss 0.340714, percent error 8.80\n",
            "Epoch    41, train loss 0.055331, train error 1.60,  val loss 0.338008, percent error 8.70\n",
            "Epoch    42, train loss 0.053491, train error 1.55,  val loss 0.331304, percent error 8.20\n",
            "Epoch    43, train loss 0.051767, train error 1.35,  val loss 0.347483, percent error 8.30\n",
            "Epoch    44, train loss 0.052910, train error 1.57,  val loss 0.357947, percent error 8.60\n",
            "Epoch    45, train loss 0.048016, train error 1.28,  val loss 0.336802, percent error 8.20\n",
            "Epoch    46, train loss 0.045335, train error 1.18,  val loss 0.346578, percent error 8.40\n",
            "Epoch    47, train loss 0.047966, train error 1.22,  val loss 0.368798, percent error 8.50\n",
            "Epoch    48, train loss 0.045925, train error 1.18,  val loss 0.358009, percent error 9.00\n",
            "Epoch    49, train loss 0.041212, train error 0.95,  val loss 0.366549, percent error 8.70\n",
            "Epoch    50, train loss 0.046311, train error 1.38,  val loss 0.367137, percent error 8.70\n",
            "Epoch    51, train loss 0.041401, train error 1.05,  val loss 0.352296, percent error 8.50\n",
            "Epoch    52, train loss 0.040263, train error 1.05,  val loss 0.359732, percent error 8.10\n",
            "Epoch    53, train loss 0.039396, train error 1.00,  val loss 0.368697, percent error 8.30\n",
            "Epoch    54, train loss 0.039596, train error 0.90,  val loss 0.371124, percent error 8.70\n",
            "Epoch    55, train loss 0.041237, train error 0.93,  val loss 0.375366, percent error 8.20\n",
            "Epoch    56, train loss 0.039116, train error 0.90,  val loss 0.367063, percent error 8.60\n",
            "Epoch    57, train loss 0.041200, train error 0.95,  val loss 0.376257, percent error 8.70\n",
            "Epoch    58, train loss 0.033596, train error 0.62,  val loss 0.378461, percent error 8.50\n",
            "Epoch    59, train loss 0.038781, train error 0.72,  val loss 0.374608, percent error 8.90\n",
            "Epoch    60, train loss 0.031268, train error 0.53,  val loss 0.385161, percent error 8.10\n",
            "Epoch    61, train loss 0.030794, train error 0.45,  val loss 0.386193, percent error 8.50\n",
            "Epoch    62, train loss 0.030654, train error 0.50,  val loss 0.380139, percent error 8.20\n",
            "Epoch    63, train loss 0.029981, train error 0.38,  val loss 0.389129, percent error 8.90\n",
            "Epoch    64, train loss 0.028840, train error 0.32,  val loss 0.386390, percent error 8.50\n",
            "Epoch    65, train loss 0.029305, train error 0.30,  val loss 0.394515, percent error 8.50\n",
            "Epoch    66, train loss 0.028798, train error 0.35,  val loss 0.387968, percent error 8.30\n",
            "Epoch    67, train loss 0.027768, train error 0.32,  val loss 0.396358, percent error 8.50\n",
            "Epoch    68, train loss 0.027710, train error 0.25,  val loss 0.399478, percent error 8.70\n",
            "Epoch    69, train loss 0.028173, train error 0.38,  val loss 0.392849, percent error 8.40\n",
            "Epoch    70, train loss 0.027141, train error 0.32,  val loss 0.395523, percent error 8.50\n",
            "Epoch    71, train loss 0.026526, train error 0.22,  val loss 0.397791, percent error 8.50\n",
            "Epoch    72, train loss 0.026476, train error 0.20,  val loss 0.401633, percent error 8.60\n",
            "Epoch    73, train loss 0.025858, train error 0.28,  val loss 0.401375, percent error 8.20\n",
            "Epoch    74, train loss 0.025873, train error 0.25,  val loss 0.405179, percent error 8.40\n",
            "Epoch    75, train loss 0.027229, train error 0.40,  val loss 0.401107, percent error 8.70\n",
            "Epoch    76, train loss 0.025716, train error 0.30,  val loss 0.413829, percent error 8.60\n",
            "Epoch    77, train loss 0.024825, train error 0.20,  val loss 0.411308, percent error 8.40\n",
            "Epoch    78, train loss 0.024727, train error 0.30,  val loss 0.406369, percent error 8.90\n",
            "Epoch    79, train loss 0.024915, train error 0.28,  val loss 0.413368, percent error 8.70\n",
            "Epoch    80, train loss 0.023756, train error 0.20,  val loss 0.414751, percent error 8.60\n",
            "Epoch    81, train loss 0.023567, train error 0.18,  val loss 0.414190, percent error 8.70\n",
            "Epoch    82, train loss 0.023231, train error 0.18,  val loss 0.414672, percent error 8.50\n",
            "Epoch    83, train loss 0.023365, train error 0.25,  val loss 0.414730, percent error 8.40\n",
            "Epoch    84, train loss 0.022911, train error 0.15,  val loss 0.416942, percent error 8.40\n",
            "Epoch    85, train loss 0.022811, train error 0.18,  val loss 0.416482, percent error 8.70\n",
            "Epoch    86, train loss 0.022897, train error 0.15,  val loss 0.420119, percent error 8.90\n",
            "Epoch    87, train loss 0.023085, train error 0.12,  val loss 0.417753, percent error 8.50\n",
            "Epoch    88, train loss 0.022483, train error 0.15,  val loss 0.418760, percent error 8.60\n",
            "Epoch    89, train loss 0.022547, train error 0.15,  val loss 0.415196, percent error 8.70\n",
            "Epoch    90, train loss 0.022560, train error 0.25,  val loss 0.420986, percent error 8.80\n",
            "Epoch    91, train loss 0.021971, train error 0.12,  val loss 0.422841, percent error 8.60\n",
            "Epoch    92, train loss 0.021938, train error 0.10,  val loss 0.424793, percent error 8.50\n",
            "Epoch    93, train loss 0.021893, train error 0.15,  val loss 0.424514, percent error 8.50\n",
            "Epoch    94, train loss 0.021999, train error 0.20,  val loss 0.422619, percent error 8.80\n",
            "Epoch    95, train loss 0.021581, train error 0.15,  val loss 0.422373, percent error 8.70\n",
            "Epoch    96, train loss 0.021425, train error 0.12,  val loss 0.429253, percent error 8.70\n",
            "Epoch    97, train loss 0.021748, train error 0.12,  val loss 0.429442, percent error 8.90\n",
            "Epoch    98, train loss 0.021511, train error 0.10,  val loss 0.430343, percent error 8.60\n",
            "Epoch    99, train loss 0.021147, train error 0.07,  val loss 0.431586, percent error 8.70\n"
          ]
        },
        {
          "data": {
            "image/png": "[encoded data removed]",
            "text/plain": [
              "<Figure size 640x480 with 1 Axes>"
            ]
          },
          "metadata": {},
          "output_type": "display_data"
        }
      ],
      "source": [
        "# choose cross entropy loss function (equation 5.24 in the loss notes)\n",
        "loss_function = nn.CrossEntropyLoss()\n",
        "# construct SGD optimizer and initialize learning rate and momentum\n",
        "optimizer = torch.optim.SGD(model.parameters(), lr=0.05, momentum=0.9)\n",
        "# object that decreases learning rate by half every 20 epochs\n",
        "scheduler = StepLR(optimizer, step_size=20, gamma=0.5)\n",
        "# create 100 dummy data points and store in data loader class\n",
        "x_train = torch.tensor(train_data_x.transpose().astype(\"float32\"))\n",
        "y_train = torch.tensor(train_data_y.astype(\"long\")).long()\n",
        "x_val = torch.tensor(val_data_x.transpose().astype(\"float32\"))\n",
        "y_val = torch.tensor(val_data_y.astype(\"long\")).long()\n",
        "\n",
        "# load the data into a class that creates the batches\n",
        "data_loader = DataLoader(\n",
        "    TensorDataset(x_train, y_train),\n",
        "    batch_size=100,\n",
        "    shuffle=True,\n",
        "    worker_init_fn=np.random.seed(1),\n",
        ")\n",
        "\n",
        "# Initialize model weights\n",
        "model.apply(weights_init)\n",
        "\n",
        "# loop over the dataset n_epoch times\n",
        "n_epoch = 100\n",
        "# store the loss and the % correct at each epoch\n",
        "losses_train = np.zeros((n_epoch))\n",
        "errors_train = np.zeros((n_epoch))\n",
        "losses_val = np.zeros((n_epoch))\n",
        "errors_val = np.zeros((n_epoch))\n",
        "\n",
        "for epoch in range(n_epoch):\n",
        "    # loop over batches\n",
        "    for i, data in enumerate(data_loader):\n",
        "        # retrieve inputs and labels for this batch\n",
        "        x_batch, y_batch = data\n",
        "        # zero the parameter gradients\n",
        "        optimizer.zero_grad()\n",
        "        # forward pass -- calculate model output\n",
        "        pred = model(x_batch[:, None, :])\n",
        "        # compute the loss\n",
        "        loss = loss_function(pred, y_batch)\n",
        "        # backward pass\n",
        "        loss.backward()\n",
        "        # SGD update\n",
        "        optimizer.step()\n",
        "\n",
        "    # Run whole dataset to get statistics -- normally wouldn't do this\n",
        "    pred_train = model(x_train[:, None, :])\n",
        "    pred_val = model(x_val[:, None, :])\n",
        "    _, predicted_train_class = torch.max(pred_train.data, 1)\n",
        "    _, predicted_val_class = torch.max(pred_val.data, 1)\n",
        "    errors_train[epoch] = 100 - 100 * (\n",
        "        predicted_train_class == y_train\n",
        "    ).float().sum() / len(y_train)\n",
        "    errors_val[epoch] = 100 - 100 * (predicted_val_class == y_val).float().sum() / len(\n",
        "        y_val\n",
        "    )\n",
        "    losses_train[epoch] = loss_function(pred_train, y_train).item()\n",
        "    losses_val[epoch] = loss_function(pred_val, y_val).item()\n",
        "    print(\n",
        "        f\"Epoch {epoch:5d}, train loss {losses_train[epoch]:.6f}, train error {errors_train[epoch]:3.2f},  val loss {losses_val[epoch]:.6f}, percent error {errors_val[epoch]:3.2f}\"\n",
        "    )\n",
        "\n",
        "    # tell scheduler to consider updating learning rate\n",
        "    scheduler.step()\n",
        "\n",
        "# Plot the results\n",
        "fig, ax = plt.subplots()\n",
        "ax.plot(errors_train, \"r-\", label=\"train\")\n",
        "ax.plot(errors_val, \"b-\", label=\"validation\")\n",
        "ax.set_ylim(0, 100)\n",
        "ax.set_xlim(0, n_epoch)\n",
        "ax.set_xlabel(\"Epoch\")\n",
        "ax.set_ylabel(\"Error\")\n",
        "ax.set_title(\"Part I: Validation Result %3.2f\" % (errors_val[-1]))\n",
        "ax.legend()\n",
        "plt.show()"
      ]
    },
    {
      "cell_type": "code",
      "execution_count": null,
      "metadata": {},
      "outputs": [],
      "source": []
    }
  ],
  "metadata": {
    "colab": {
      "authorship_tag": "ABX9TyNb46PJB/CC1pcHGfjpUUZg",
      "include_colab_link": true,
      "provenance": []
    },
    "kernelspec": {
      "display_name": "venv",
      "language": "python",
      "name": "python3"
    },
    "language_info": {
      "codemirror_mode": {
        "name": "ipython",
        "version": 3
      },
      "file_extension": ".py",
      "mimetype": "text/x-python",
      "name": "python",
      "nbconvert_exporter": "python",
      "pygments_lexer": "ipython3",
      "version": "3.12.8"
    }
  },
  "nbformat": 4,
  "nbformat_minor": 0
}
