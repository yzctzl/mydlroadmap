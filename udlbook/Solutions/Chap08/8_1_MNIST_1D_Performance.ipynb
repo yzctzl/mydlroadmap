{
  "cells": [
    {
      "cell_type": "markdown",
      "metadata": {
        "colab_type": "text",
        "id": "view-in-github"
      },
      "source": [
        "<a href=\"https://colab.research.google.com/github/udlbook/udlbook/blob/main/Notebooks/Chap08/8_1_MNIST_1D_Performance.ipynb\" target=\"_parent\"><img src=\"https://colab.research.google.com/assets/colab-badge.svg\" alt=\"Open In Colab\"/></a>"
      ]
    },
    {
      "cell_type": "markdown",
      "metadata": {
        "id": "L6chybAVFJW2"
      },
      "source": [
        "# **Notebook 8.1: MNIST_1D_Performance**\n",
        "\n",
        "This notebook runs a simple neural network on the MNIST1D dataset as in figure 8.2a. It uses code from https://github.com/greydanus/mnist1d to generate the data.\n",
        "\n",
        "Work through the cells below, running each cell in turn. In various places you will see the words \"TO DO\". Follow the instructions at these places and make predictions about what is going to happen or write code to complete the functions.\n",
        "\n",
        "Contact me at udlbookmail@gmail.com if you find any mistakes or have any suggestions."
      ]
    },
    {
      "cell_type": "code",
      "execution_count": 1,
      "metadata": {
        "id": "ifVjS4cTOqKz"
      },
      "outputs": [
        {
          "name": "stdout",
          "output_type": "stream",
          "text": [
            "Collecting git+https://github.com/greydanus/mnist1d\n",
            "  Cloning https://github.com/greydanus/mnist1d to /tmp/pip-req-build-51ulbl49\n",
            "  Running command git clone --filter=blob:none --quiet https://github.com/greydanus/mnist1d /tmp/pip-req-build-51ulbl49\n",
            "  Resolved https://github.com/greydanus/mnist1d to commit 7878d96082abd200c546a07a4101fa90b30fdf7e\n",
            "  Installing build dependencies ... \u001b[?25ldone\n",
            "\u001b[?25h  Getting requirements to build wheel ... \u001b[?25ldone\n",
            "\u001b[?25h  Preparing metadata (pyproject.toml) ... \u001b[?25ldone\n",
            "\u001b[?25hCollecting requests (from mnist1d==0.0.2.post16)\n",
            "  Using cached requests-2.32.3-py3-none-any.whl.metadata (4.6 kB)\n",
            "Collecting numpy (from mnist1d==0.0.2.post16)\n",
            "  Using cached numpy-2.2.1-cp312-cp312-manylinux_2_17_x86_64.manylinux2014_x86_64.whl.metadata (62 kB)\n",
            "Collecting matplotlib (from mnist1d==0.0.2.post16)\n",
            "  Using cached matplotlib-3.10.0-cp312-cp312-manylinux_2_17_x86_64.manylinux2014_x86_64.whl.metadata (11 kB)\n",
            "Collecting scipy (from mnist1d==0.0.2.post16)\n",
            "  Downloading scipy-1.15.0-cp312-cp312-manylinux_2_17_x86_64.manylinux2014_x86_64.whl.metadata (61 kB)\n",
            "Collecting contourpy>=1.0.1 (from matplotlib->mnist1d==0.0.2.post16)\n",
            "  Using cached contourpy-1.3.1-cp312-cp312-manylinux_2_17_x86_64.manylinux2014_x86_64.whl.metadata (5.4 kB)\n",
            "Collecting cycler>=0.10 (from matplotlib->mnist1d==0.0.2.post16)\n",
            "  Using cached cycler-0.12.1-py3-none-any.whl.metadata (3.8 kB)\n",
            "Collecting fonttools>=4.22.0 (from matplotlib->mnist1d==0.0.2.post16)\n",
            "  Using cached fonttools-4.55.3-cp312-cp312-manylinux_2_5_x86_64.manylinux1_x86_64.manylinux_2_17_x86_64.manylinux2014_x86_64.whl.metadata (165 kB)\n",
            "Collecting kiwisolver>=1.3.1 (from matplotlib->mnist1d==0.0.2.post16)\n",
            "  Using cached kiwisolver-1.4.8-cp312-cp312-manylinux_2_17_x86_64.manylinux2014_x86_64.whl.metadata (6.2 kB)\n",
            "Requirement already satisfied: packaging>=20.0 in /home/yzctzl/Documents/UnderstandingDeepLearning-ZH-CN-main/.venv/lib/python3.12/site-packages (from matplotlib->mnist1d==0.0.2.post16) (24.2)\n",
            "Collecting pillow>=8 (from matplotlib->mnist1d==0.0.2.post16)\n",
            "  Using cached pillow-11.1.0-cp312-cp312-manylinux_2_28_x86_64.whl.metadata (9.1 kB)\n",
            "Collecting pyparsing>=2.3.1 (from matplotlib->mnist1d==0.0.2.post16)\n",
            "  Using cached pyparsing-3.2.1-py3-none-any.whl.metadata (5.0 kB)\n",
            "Requirement already satisfied: python-dateutil>=2.7 in /home/yzctzl/Documents/UnderstandingDeepLearning-ZH-CN-main/.venv/lib/python3.12/site-packages (from matplotlib->mnist1d==0.0.2.post16) (2.9.0.post0)\n",
            "Collecting charset-normalizer<4,>=2 (from requests->mnist1d==0.0.2.post16)\n",
            "  Using cached charset_normalizer-3.4.1-cp312-cp312-manylinux_2_17_x86_64.manylinux2014_x86_64.whl.metadata (35 kB)\n",
            "Collecting idna<4,>=2.5 (from requests->mnist1d==0.0.2.post16)\n",
            "  Using cached idna-3.10-py3-none-any.whl.metadata (10 kB)\n",
            "Collecting urllib3<3,>=1.21.1 (from requests->mnist1d==0.0.2.post16)\n",
            "  Using cached urllib3-2.3.0-py3-none-any.whl.metadata (6.5 kB)\n",
            "Collecting certifi>=2017.4.17 (from requests->mnist1d==0.0.2.post16)\n",
            "  Using cached certifi-2024.12.14-py3-none-any.whl.metadata (2.3 kB)\n",
            "Requirement already satisfied: six>=1.5 in /home/yzctzl/Documents/UnderstandingDeepLearning-ZH-CN-main/.venv/lib/python3.12/site-packages (from python-dateutil>=2.7->matplotlib->mnist1d==0.0.2.post16) (1.17.0)\n",
            "Using cached matplotlib-3.10.0-cp312-cp312-manylinux_2_17_x86_64.manylinux2014_x86_64.whl (8.6 MB)\n",
            "Using cached numpy-2.2.1-cp312-cp312-manylinux_2_17_x86_64.manylinux2014_x86_64.whl (16.1 MB)\n",
            "Using cached requests-2.32.3-py3-none-any.whl (64 kB)\n",
            "Downloading scipy-1.15.0-cp312-cp312-manylinux_2_17_x86_64.manylinux2014_x86_64.whl (40.3 MB)\n",
            "\u001b[2K   \u001b[90m━━━━━━━━━━━━━━━━━━━━━━━━━━━━━━━━━━━━━━━━\u001b[0m \u001b[32m40.3/40.3 MB\u001b[0m \u001b[31m23.3 MB/s\u001b[0m eta \u001b[36m0:00:00\u001b[0ma \u001b[36m0:00:01\u001b[0m\n",
            "\u001b[?25hUsing cached certifi-2024.12.14-py3-none-any.whl (164 kB)\n",
            "Using cached charset_normalizer-3.4.1-cp312-cp312-manylinux_2_17_x86_64.manylinux2014_x86_64.whl (145 kB)\n",
            "Using cached contourpy-1.3.1-cp312-cp312-manylinux_2_17_x86_64.manylinux2014_x86_64.whl (323 kB)\n",
            "Using cached cycler-0.12.1-py3-none-any.whl (8.3 kB)\n",
            "Using cached fonttools-4.55.3-cp312-cp312-manylinux_2_5_x86_64.manylinux1_x86_64.manylinux_2_17_x86_64.manylinux2014_x86_64.whl (4.9 MB)\n",
            "Using cached idna-3.10-py3-none-any.whl (70 kB)\n",
            "Using cached kiwisolver-1.4.8-cp312-cp312-manylinux_2_17_x86_64.manylinux2014_x86_64.whl (1.5 MB)\n",
            "Using cached pillow-11.1.0-cp312-cp312-manylinux_2_28_x86_64.whl (4.5 MB)\n",
            "Using cached pyparsing-3.2.1-py3-none-any.whl (107 kB)\n",
            "Using cached urllib3-2.3.0-py3-none-any.whl (128 kB)\n",
            "Building wheels for collected packages: mnist1d\n",
            "  Building wheel for mnist1d (pyproject.toml) ... \u001b[?25ldone\n",
            "\u001b[?25h  Created wheel for mnist1d: filename=mnist1d-0.0.2.post16-py3-none-any.whl size=14626 sha256=bd9d9525087b4c7ed3c54d94859284d7fcc1d5a0ca02f2dc5f3fb0790e5a57c1\n",
            "  Stored in directory: /tmp/pip-ephem-wheel-cache-owmw2224/wheels/18/40/b6/29381fee9b4c80fdbc304d52bb065a7286bbcca5ca2b8737c0\n",
            "Successfully built mnist1d\n",
            "Installing collected packages: urllib3, pyparsing, pillow, numpy, kiwisolver, idna, fonttools, cycler, charset-normalizer, certifi, scipy, requests, contourpy, matplotlib, mnist1d\n",
            "Successfully installed certifi-2024.12.14 charset-normalizer-3.4.1 contourpy-1.3.1 cycler-0.12.1 fonttools-4.55.3 idna-3.10 kiwisolver-1.4.8 matplotlib-3.10.0 mnist1d-0.0.2.post16 numpy-2.2.1 pillow-11.1.0 pyparsing-3.2.1 requests-2.32.3 scipy-1.15.0 urllib3-2.3.0\n",
            "Note: you may need to restart the kernel to use updated packages.\n"
          ]
        }
      ],
      "source": [
        "# Run this if you're in a Colab to install MNIST 1D repository\n",
        "%pip install git+https://github.com/greydanus/mnist1d"
      ]
    },
    {
      "cell_type": "code",
      "execution_count": 1,
      "metadata": {
        "id": "qyE7G1StPIqO"
      },
      "outputs": [],
      "source": [
        "import torch\n",
        "import torch.nn as nn\n",
        "from torch.utils.data import TensorDataset, DataLoader\n",
        "from torch.optim.lr_scheduler import StepLR\n",
        "import numpy as np\n",
        "import matplotlib.pyplot as plt\n",
        "import mnist1d"
      ]
    },
    {
      "cell_type": "markdown",
      "metadata": {
        "id": "F7LNq72SP6jO"
      },
      "source": [
        "Let's generate a training and test dataset using the MNIST1D code.  The dataset gets saved as a .pkl file so it doesn't have to be regenerated each time."
      ]
    },
    {
      "cell_type": "code",
      "execution_count": 2,
      "metadata": {
        "id": "YLxf7dJfPaqw"
      },
      "outputs": [
        {
          "name": "stdout",
          "output_type": "stream",
          "text": [
            "Successfully loaded data from ./mnist1d_data.pkl\n",
            "Examples in training set: 4000\n",
            "Examples in test set: 1000\n",
            "Length of each example: 40\n"
          ]
        }
      ],
      "source": [
        "args = mnist1d.data.get_dataset_args()\n",
        "data = mnist1d.data.get_dataset(\n",
        "    args, path=\"./mnist1d_data.pkl\", download=False, regenerate=False\n",
        ")\n",
        "\n",
        "# The training and test input and outputs are in\n",
        "# data['x'], data['y'], data['x_test'], and data['y_test']\n",
        "print(\"Examples in training set: {}\".format(len(data[\"y\"])))\n",
        "print(\"Examples in test set: {}\".format(len(data[\"y_test\"])))\n",
        "print(\"Length of each example: {}\".format(data[\"x\"].shape[-1]))"
      ]
    },
    {
      "cell_type": "code",
      "execution_count": 3,
      "metadata": {
        "id": "FxaB5vc0uevl"
      },
      "outputs": [
        {
          "data": {
            "text/plain": [
              "Sequential(\n",
              "  (0): Linear(in_features=40, out_features=100, bias=True)\n",
              "  (1): ReLU()\n",
              "  (2): Linear(in_features=100, out_features=100, bias=True)\n",
              "  (3): ReLU()\n",
              "  (4): Linear(in_features=100, out_features=10, bias=True)\n",
              ")"
            ]
          },
          "execution_count": 3,
          "metadata": {},
          "output_type": "execute_result"
        }
      ],
      "source": [
        "D_i = 40  # Input dimensions\n",
        "D_k = 100  # Hidden dimensions\n",
        "D_o = 10  # Output dimensions\n",
        "# TODO:\n",
        "# Define a model with two hidden layers of size 100\n",
        "# And ReLU activations between them\n",
        "# Replace this line (see Figure 7.8 of book for help):\n",
        "model = nn.Sequential(\n",
        "    nn.Linear(D_i, D_k), nn.ReLU(), nn.Linear(D_k, D_k), nn.ReLU(), nn.Linear(D_k, D_o)\n",
        ")\n",
        "\n",
        "\n",
        "def weights_init(layer_in):\n",
        "    # TODO:\n",
        "    # Initialize the parameters with He initialization\n",
        "    # Replace this line (see figure 7.8 of book for help)\n",
        "    if isinstance(layer_in, nn.Linear):\n",
        "        nn.init.kaiming_normal_(layer_in.weight)\n",
        "        layer_in.bias.data.fill_(0.0)\n",
        "\n",
        "\n",
        "# Call the function you just defined\n",
        "model.apply(weights_init)\n"
      ]
    },
    {
      "cell_type": "code",
      "execution_count": 4,
      "metadata": {
        "id": "_rX6N3VyyQTY"
      },
      "outputs": [
        {
          "name": "stdout",
          "output_type": "stream",
          "text": [
            "Epoch     0, train loss 1.583373, train error 60.30,  test loss 1.670012, test error 66.90\n",
            "Epoch     1, train loss 1.360312, train error 51.75,  test loss 1.486218, test error 58.60\n",
            "Epoch     2, train loss 1.156765, train error 42.60,  test loss 1.333425, test error 52.20\n",
            "Epoch     3, train loss 1.030728, train error 38.03,  test loss 1.265957, test error 47.70\n",
            "Epoch     4, train loss 0.888939, train error 30.93,  test loss 1.181402, test error 46.10\n",
            "Epoch     5, train loss 0.821190, train error 29.43,  test loss 1.183724, test error 45.70\n",
            "Epoch     6, train loss 0.728380, train error 26.10,  test loss 1.128257, test error 43.00\n",
            "Epoch     7, train loss 0.645679, train error 21.85,  test loss 1.106885, test error 42.70\n",
            "Epoch     8, train loss 0.565205, train error 19.38,  test loss 1.098496, test error 41.80\n",
            "Epoch     9, train loss 0.491470, train error 15.45,  test loss 1.055287, test error 38.80\n",
            "Epoch    10, train loss 0.400398, train error 11.07,  test loss 1.046514, test error 38.50\n",
            "Epoch    11, train loss 0.359954, train error 9.15,  test loss 1.034379, test error 37.70\n",
            "Epoch    12, train loss 0.339928, train error 8.57,  test loss 1.054924, test error 38.90\n",
            "Epoch    13, train loss 0.299553, train error 6.95,  test loss 1.053822, test error 38.10\n",
            "Epoch    14, train loss 0.269466, train error 5.78,  test loss 1.056236, test error 36.10\n",
            "Epoch    15, train loss 0.250368, train error 5.35,  test loss 1.086709, test error 38.30\n",
            "Epoch    16, train loss 0.224726, train error 4.43,  test loss 1.089525, test error 36.10\n",
            "Epoch    17, train loss 0.204330, train error 3.75,  test loss 1.093003, test error 36.80\n",
            "Epoch    18, train loss 0.183576, train error 2.82,  test loss 1.149312, test error 37.60\n",
            "Epoch    19, train loss 0.174740, train error 3.00,  test loss 1.113641, test error 36.90\n",
            "Epoch    20, train loss 0.141941, train error 1.50,  test loss 1.126888, test error 36.70\n",
            "Epoch    21, train loss 0.133239, train error 1.25,  test loss 1.129243, test error 35.70\n",
            "Epoch    22, train loss 0.129824, train error 1.18,  test loss 1.147891, test error 36.10\n",
            "Epoch    23, train loss 0.120428, train error 0.90,  test loss 1.161655, test error 35.90\n",
            "Epoch    24, train loss 0.111982, train error 0.80,  test loss 1.151071, test error 36.10\n",
            "Epoch    25, train loss 0.108392, train error 0.88,  test loss 1.167650, test error 36.60\n",
            "Epoch    26, train loss 0.103597, train error 0.72,  test loss 1.191124, test error 36.60\n",
            "Epoch    27, train loss 0.097747, train error 0.53,  test loss 1.193380, test error 35.80\n",
            "Epoch    28, train loss 0.091020, train error 0.43,  test loss 1.200708, test error 36.10\n",
            "Epoch    29, train loss 0.088728, train error 0.35,  test loss 1.204879, test error 36.40\n",
            "Epoch    30, train loss 0.083064, train error 0.35,  test loss 1.207982, test error 36.30\n",
            "Epoch    31, train loss 0.080686, train error 0.25,  test loss 1.209103, test error 36.30\n",
            "Epoch    32, train loss 0.079007, train error 0.22,  test loss 1.210882, test error 36.40\n",
            "Epoch    33, train loss 0.076553, train error 0.18,  test loss 1.220632, test error 35.80\n",
            "Epoch    34, train loss 0.074997, train error 0.20,  test loss 1.221389, test error 36.20\n",
            "Epoch    35, train loss 0.073295, train error 0.07,  test loss 1.230649, test error 36.10\n",
            "Epoch    36, train loss 0.071575, train error 0.07,  test loss 1.234587, test error 36.10\n",
            "Epoch    37, train loss 0.070541, train error 0.12,  test loss 1.240683, test error 36.40\n",
            "Epoch    38, train loss 0.068306, train error 0.05,  test loss 1.241292, test error 36.50\n",
            "Epoch    39, train loss 0.067206, train error 0.07,  test loss 1.249803, test error 36.00\n",
            "Epoch    40, train loss 0.065704, train error 0.05,  test loss 1.246629, test error 36.30\n",
            "Epoch    41, train loss 0.064876, train error 0.05,  test loss 1.250440, test error 36.20\n",
            "Epoch    42, train loss 0.064308, train error 0.05,  test loss 1.251010, test error 36.40\n",
            "Epoch    43, train loss 0.063493, train error 0.05,  test loss 1.252808, test error 36.50\n",
            "Epoch    44, train loss 0.062844, train error 0.05,  test loss 1.258786, test error 36.20\n",
            "Epoch    45, train loss 0.062197, train error 0.05,  test loss 1.260186, test error 36.60\n",
            "Epoch    46, train loss 0.061535, train error 0.05,  test loss 1.263356, test error 36.50\n",
            "Epoch    47, train loss 0.061075, train error 0.05,  test loss 1.265155, test error 36.20\n",
            "Epoch    48, train loss 0.060163, train error 0.05,  test loss 1.265840, test error 36.40\n",
            "Epoch    49, train loss 0.059505, train error 0.03,  test loss 1.266478, test error 36.70\n"
          ]
        }
      ],
      "source": [
        "# choose cross entropy loss function (equation 5.24)\n",
        "loss_function = torch.nn.CrossEntropyLoss()\n",
        "# construct SGD optimizer and initialize learning rate and momentum\n",
        "optimizer = torch.optim.SGD(model.parameters(), lr=0.05, momentum=0.9)\n",
        "# object that decreases learning rate by half every 10 epochs\n",
        "scheduler = StepLR(optimizer, step_size=10, gamma=0.5)\n",
        "x_train = torch.tensor(data[\"x\"].astype(\"float32\"))\n",
        "y_train = torch.tensor(data[\"y\"].transpose().astype(\"int64\"))\n",
        "x_test = torch.tensor(data[\"x_test\"].astype(\"float32\"))\n",
        "y_test = torch.tensor(data[\"y_test\"].astype(\"int64\"))\n",
        "\n",
        "# load the data into a class that creates the batches\n",
        "data_loader = DataLoader(\n",
        "    TensorDataset(x_train, y_train),\n",
        "    batch_size=100,\n",
        "    shuffle=True,\n",
        "    worker_init_fn=np.random.seed(1),\n",
        ")\n",
        "\n",
        "# Initialize model weights\n",
        "model.apply(weights_init)\n",
        "\n",
        "# loop over the dataset n_epoch times\n",
        "n_epoch = 50\n",
        "# store the loss and the % correct at each epoch\n",
        "losses_train = np.zeros((n_epoch))\n",
        "errors_train = np.zeros((n_epoch))\n",
        "losses_test = np.zeros((n_epoch))\n",
        "errors_test = np.zeros((n_epoch))\n",
        "\n",
        "for epoch in range(n_epoch):\n",
        "    # loop over batches\n",
        "    for i, batch in enumerate(data_loader):\n",
        "        # retrieve inputs and labels for this batch\n",
        "        x_batch, y_batch = batch\n",
        "        # zero the parameter gradients\n",
        "        optimizer.zero_grad()\n",
        "        # forward pass -- calculate model output\n",
        "        pred = model(x_batch)\n",
        "        # compute the loss\n",
        "        loss = loss_function(pred, y_batch)\n",
        "        # backward pass\n",
        "        loss.backward()\n",
        "        # SGD update\n",
        "        optimizer.step()\n",
        "\n",
        "    # Run whole dataset to get statistics -- normally wouldn't do this\n",
        "    pred_train = model(x_train)\n",
        "    pred_test = model(x_test)\n",
        "    _, predicted_train_class = torch.max(pred_train.data, 1)\n",
        "    _, predicted_test_class = torch.max(pred_test.data, 1)\n",
        "    errors_train[epoch] = 100 - 100 * (\n",
        "        predicted_train_class == y_train\n",
        "    ).float().sum() / len(y_train)\n",
        "    errors_test[epoch] = 100 - 100 * (\n",
        "        predicted_test_class == y_test\n",
        "    ).float().sum() / len(y_test)\n",
        "    losses_train[epoch] = loss_function(pred_train, y_train).item()\n",
        "    losses_test[epoch] = loss_function(pred_test, y_test).item()\n",
        "    print(\n",
        "        f\"Epoch {epoch:5d}, train loss {losses_train[epoch]:.6f}, train error {errors_train[epoch]:3.2f},  test loss {losses_test[epoch]:.6f}, test error {errors_test[epoch]:3.2f}\"\n",
        "    )\n",
        "\n",
        "    # tell scheduler to consider updating learning rate\n",
        "    scheduler.step()"
      ]
    },
    {
      "cell_type": "code",
      "execution_count": 5,
      "metadata": {
        "id": "yI-l6kA_EH9G"
      },
      "outputs": [
        {
          "data": {
            "image/png": "[encoded data removed]",
            "text/plain": [
              "<Figure size 640x480 with 1 Axes>"
            ]
          },
          "metadata": {},
          "output_type": "display_data"
        },
        {
          "data": {
            "image/png": "[encoded data removed]",
            "text/plain": [
              "<Figure size 640x480 with 1 Axes>"
            ]
          },
          "metadata": {},
          "output_type": "display_data"
        }
      ],
      "source": [
        "# Plot the results\n",
        "fig, ax = plt.subplots()\n",
        "ax.plot(errors_train, \"r-\", label=\"train\")\n",
        "ax.plot(errors_test, \"b-\", label=\"test\")\n",
        "ax.set_ylim(0, 100)\n",
        "ax.set_xlim(0, n_epoch)\n",
        "ax.set_xlabel(\"Epoch\")\n",
        "ax.set_ylabel(\"Error\")\n",
        "ax.set_title(\"TrainError %3.2f, Test Error %3.2f\" % (errors_train[-1], errors_test[-1]))\n",
        "ax.legend()\n",
        "plt.show()\n",
        "\n",
        "# Plot the results\n",
        "fig, ax = plt.subplots()\n",
        "ax.plot(losses_train, \"r-\", label=\"train\")\n",
        "ax.plot(losses_test, \"b-\", label=\"test\")\n",
        "ax.set_xlim(0, n_epoch)\n",
        "ax.set_xlabel(\"Epoch\")\n",
        "ax.set_ylabel(\"Loss\")\n",
        "ax.set_title(\"Train loss %3.2f, Test loss %3.2f\" % (losses_train[-1], losses_test[-1]))\n",
        "ax.legend()\n",
        "plt.show()"
      ]
    },
    {
      "cell_type": "markdown",
      "metadata": {
        "id": "q-yT6re6GZS4"
      },
      "source": [
        "**TO DO**\n",
        "\n",
        "Play with the model -- try changing the number of layers, hidden units, learning rate, batch size, momentum or anything else you like.  See if you can improve the test results.\n",
        "\n",
        "Is it a good idea to optimize the hyperparameters in this way?  Will the final result be a good estimate of the true test performance?"
      ]
    }
  ],
  "metadata": {
    "accelerator": "GPU",
    "colab": {
      "authorship_tag": "ABX9TyOuKMUcKfOIhIL2qTX9jJCy",
      "gpuType": "T4",
      "include_colab_link": true,
      "provenance": []
    },
    "kernelspec": {
      "display_name": "venv",
      "language": "python",
      "name": "python3"
    },
    "language_info": {
      "codemirror_mode": {
        "name": "ipython",
        "version": 3
      },
      "file_extension": ".py",
      "mimetype": "text/x-python",
      "name": "python",
      "nbconvert_exporter": "python",
      "pygments_lexer": "ipython3",
      "version": "3.12.8"
    }
  },
  "nbformat": 4,
  "nbformat_minor": 0
}
